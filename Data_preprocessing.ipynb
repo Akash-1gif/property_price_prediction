{
 "cells": [
  {
   "cell_type": "markdown",
   "id": "66d75334",
   "metadata": {},
   "source": [
    "# Data Preparation and Pre-processing:"
   ]
  },
  {
   "cell_type": "code",
   "execution_count": 1,
   "id": "ae205766",
   "metadata": {},
   "outputs": [],
   "source": [
    "import numpy as np\n",
    "import pandas as pd\n",
    "import matplotlib.pyplot as plt\n",
    "%matplotlib inline\n",
    "plt.style.use('dark_background')\n",
    "from sklearn.model_selection import train_test_split\n",
    "from sklearn.linear_model import LinearRegression\n",
    "from sklearn.preprocessing import LabelEncoder\n",
    "import pickle\n",
    "import joblib"
   ]
  },
  {
   "cell_type": "markdown",
   "id": "af2b6eb3",
   "metadata": {},
   "source": [
    "### Extracting the data:"
   ]
  },
  {
   "cell_type": "code",
   "execution_count": 2,
   "id": "9b3bc280",
   "metadata": {},
   "outputs": [
    {
     "data": {
      "text/html": [
       "<div>\n",
       "<style scoped>\n",
       "    .dataframe tbody tr th:only-of-type {\n",
       "        vertical-align: middle;\n",
       "    }\n",
       "\n",
       "    .dataframe tbody tr th {\n",
       "        vertical-align: top;\n",
       "    }\n",
       "\n",
       "    .dataframe thead th {\n",
       "        text-align: right;\n",
       "    }\n",
       "</style>\n",
       "<table border=\"1\" class=\"dataframe\">\n",
       "  <thead>\n",
       "    <tr style=\"text-align: right;\">\n",
       "      <th></th>\n",
       "      <th>area_type</th>\n",
       "      <th>availability</th>\n",
       "      <th>location</th>\n",
       "      <th>size</th>\n",
       "      <th>society</th>\n",
       "      <th>total_sqft</th>\n",
       "      <th>bath</th>\n",
       "      <th>balcony</th>\n",
       "      <th>price</th>\n",
       "    </tr>\n",
       "  </thead>\n",
       "  <tbody>\n",
       "    <tr>\n",
       "      <th>7781</th>\n",
       "      <td>Built-up  Area</td>\n",
       "      <td>Ready To Move</td>\n",
       "      <td>Sunder Ram Shetty Nagar</td>\n",
       "      <td>3 BHK</td>\n",
       "      <td>Bustain</td>\n",
       "      <td>1480</td>\n",
       "      <td>3.0</td>\n",
       "      <td>2.0</td>\n",
       "      <td>74.0</td>\n",
       "    </tr>\n",
       "    <tr>\n",
       "      <th>12486</th>\n",
       "      <td>Built-up  Area</td>\n",
       "      <td>Ready To Move</td>\n",
       "      <td>HBR Layout</td>\n",
       "      <td>2 Bedroom</td>\n",
       "      <td>NaN</td>\n",
       "      <td>900</td>\n",
       "      <td>2.0</td>\n",
       "      <td>1.0</td>\n",
       "      <td>145.0</td>\n",
       "    </tr>\n",
       "    <tr>\n",
       "      <th>11947</th>\n",
       "      <td>Super built-up  Area</td>\n",
       "      <td>20-Dec</td>\n",
       "      <td>Kanakpura Road</td>\n",
       "      <td>2 BHK</td>\n",
       "      <td>PrarePa</td>\n",
       "      <td>900</td>\n",
       "      <td>2.0</td>\n",
       "      <td>1.0</td>\n",
       "      <td>41.0</td>\n",
       "    </tr>\n",
       "    <tr>\n",
       "      <th>11578</th>\n",
       "      <td>Super built-up  Area</td>\n",
       "      <td>Ready To Move</td>\n",
       "      <td>Bannerghatta Road</td>\n",
       "      <td>3 BHK</td>\n",
       "      <td>SNity S</td>\n",
       "      <td>1450</td>\n",
       "      <td>2.0</td>\n",
       "      <td>2.0</td>\n",
       "      <td>78.0</td>\n",
       "    </tr>\n",
       "    <tr>\n",
       "      <th>9464</th>\n",
       "      <td>Super built-up  Area</td>\n",
       "      <td>Ready To Move</td>\n",
       "      <td>Bannerghatta Road</td>\n",
       "      <td>2 BHK</td>\n",
       "      <td>SNity S</td>\n",
       "      <td>905</td>\n",
       "      <td>2.0</td>\n",
       "      <td>1.0</td>\n",
       "      <td>65.0</td>\n",
       "    </tr>\n",
       "  </tbody>\n",
       "</table>\n",
       "</div>"
      ],
      "text/plain": [
       "                  area_type   availability                 location  \\\n",
       "7781         Built-up  Area  Ready To Move  Sunder Ram Shetty Nagar   \n",
       "12486        Built-up  Area  Ready To Move               HBR Layout   \n",
       "11947  Super built-up  Area         20-Dec           Kanakpura Road   \n",
       "11578  Super built-up  Area  Ready To Move        Bannerghatta Road   \n",
       "9464   Super built-up  Area  Ready To Move        Bannerghatta Road   \n",
       "\n",
       "            size  society total_sqft  bath  balcony  price  \n",
       "7781       3 BHK  Bustain       1480   3.0      2.0   74.0  \n",
       "12486  2 Bedroom      NaN        900   2.0      1.0  145.0  \n",
       "11947      2 BHK  PrarePa        900   2.0      1.0   41.0  \n",
       "11578      3 BHK  SNity S       1450   2.0      2.0   78.0  \n",
       "9464       2 BHK  SNity S        905   2.0      1.0   65.0  "
      ]
     },
     "execution_count": 2,
     "metadata": {},
     "output_type": "execute_result"
    }
   ],
   "source": [
    "df=pd.read_csv('Bengaluru_House_Data.csv')\n",
    "df.sample(5)"
   ]
  },
  {
   "cell_type": "markdown",
   "id": "0f89a346",
   "metadata": {},
   "source": [
    "## Data cleaning:"
   ]
  },
  {
   "cell_type": "markdown",
   "id": "f6601d43",
   "metadata": {},
   "source": [
    "### Removing unnecessary columns:"
   ]
  },
  {
   "cell_type": "code",
   "execution_count": 3,
   "id": "1697aebf",
   "metadata": {},
   "outputs": [
    {
     "data": {
      "text/html": [
       "<div>\n",
       "<style scoped>\n",
       "    .dataframe tbody tr th:only-of-type {\n",
       "        vertical-align: middle;\n",
       "    }\n",
       "\n",
       "    .dataframe tbody tr th {\n",
       "        vertical-align: top;\n",
       "    }\n",
       "\n",
       "    .dataframe thead th {\n",
       "        text-align: right;\n",
       "    }\n",
       "</style>\n",
       "<table border=\"1\" class=\"dataframe\">\n",
       "  <thead>\n",
       "    <tr style=\"text-align: right;\">\n",
       "      <th></th>\n",
       "      <th>area_type</th>\n",
       "      <th>location</th>\n",
       "      <th>size</th>\n",
       "      <th>total_sqft</th>\n",
       "      <th>bath</th>\n",
       "      <th>balcony</th>\n",
       "      <th>price</th>\n",
       "    </tr>\n",
       "  </thead>\n",
       "  <tbody>\n",
       "    <tr>\n",
       "      <th>9110</th>\n",
       "      <td>Plot  Area</td>\n",
       "      <td>Ananthapura, T C palaya Main Road</td>\n",
       "      <td>2 Bedroom</td>\n",
       "      <td>680</td>\n",
       "      <td>3.0</td>\n",
       "      <td>2.0</td>\n",
       "      <td>60.00</td>\n",
       "    </tr>\n",
       "    <tr>\n",
       "      <th>7163</th>\n",
       "      <td>Built-up  Area</td>\n",
       "      <td>Harsha Layout</td>\n",
       "      <td>1 BHK</td>\n",
       "      <td>650</td>\n",
       "      <td>1.0</td>\n",
       "      <td>0.0</td>\n",
       "      <td>16.00</td>\n",
       "    </tr>\n",
       "    <tr>\n",
       "      <th>7150</th>\n",
       "      <td>Super built-up  Area</td>\n",
       "      <td>Bellandur</td>\n",
       "      <td>2 BHK</td>\n",
       "      <td>1200</td>\n",
       "      <td>2.0</td>\n",
       "      <td>1.0</td>\n",
       "      <td>52.00</td>\n",
       "    </tr>\n",
       "    <tr>\n",
       "      <th>11027</th>\n",
       "      <td>Super built-up  Area</td>\n",
       "      <td>Yelahanka</td>\n",
       "      <td>3 BHK</td>\n",
       "      <td>1517</td>\n",
       "      <td>3.0</td>\n",
       "      <td>2.0</td>\n",
       "      <td>71.28</td>\n",
       "    </tr>\n",
       "    <tr>\n",
       "      <th>3864</th>\n",
       "      <td>Built-up  Area</td>\n",
       "      <td>Huskur</td>\n",
       "      <td>3 BHK</td>\n",
       "      <td>1310</td>\n",
       "      <td>2.0</td>\n",
       "      <td>1.0</td>\n",
       "      <td>37.83</td>\n",
       "    </tr>\n",
       "  </tbody>\n",
       "</table>\n",
       "</div>"
      ],
      "text/plain": [
       "                  area_type                           location       size  \\\n",
       "9110             Plot  Area  Ananthapura, T C palaya Main Road  2 Bedroom   \n",
       "7163         Built-up  Area                      Harsha Layout      1 BHK   \n",
       "7150   Super built-up  Area                          Bellandur      2 BHK   \n",
       "11027  Super built-up  Area                          Yelahanka      3 BHK   \n",
       "3864         Built-up  Area                             Huskur      3 BHK   \n",
       "\n",
       "      total_sqft  bath  balcony  price  \n",
       "9110         680   3.0      2.0  60.00  \n",
       "7163         650   1.0      0.0  16.00  \n",
       "7150        1200   2.0      1.0  52.00  \n",
       "11027       1517   3.0      2.0  71.28  \n",
       "3864        1310   2.0      1.0  37.83  "
      ]
     },
     "execution_count": 3,
     "metadata": {},
     "output_type": "execute_result"
    }
   ],
   "source": [
    "df=df.drop(['availability','society'],axis=1)\n",
    "df.sample(5)"
   ]
  },
  {
   "cell_type": "markdown",
   "id": "4d6b929e",
   "metadata": {},
   "source": [
    "### Removing Null values:"
   ]
  },
  {
   "cell_type": "code",
   "execution_count": 4,
   "id": "78ba46a8",
   "metadata": {},
   "outputs": [
    {
     "data": {
      "text/plain": [
       "area_type       0\n",
       "location        1\n",
       "size           16\n",
       "total_sqft      0\n",
       "bath           73\n",
       "balcony       609\n",
       "price           0\n",
       "dtype: int64"
      ]
     },
     "execution_count": 4,
     "metadata": {},
     "output_type": "execute_result"
    }
   ],
   "source": [
    "df.isnull().sum()"
   ]
  },
  {
   "cell_type": "code",
   "execution_count": 5,
   "id": "7a447a49",
   "metadata": {},
   "outputs": [],
   "source": [
    "df=df.dropna()"
   ]
  },
  {
   "cell_type": "code",
   "execution_count": 6,
   "id": "3f8856fd",
   "metadata": {},
   "outputs": [
    {
     "data": {
      "text/plain": [
       "area_type     0\n",
       "location      0\n",
       "size          0\n",
       "total_sqft    0\n",
       "bath          0\n",
       "balcony       0\n",
       "price         0\n",
       "dtype: int64"
      ]
     },
     "execution_count": 6,
     "metadata": {},
     "output_type": "execute_result"
    }
   ],
   "source": [
    "df.isnull().sum()"
   ]
  },
  {
   "cell_type": "markdown",
   "id": "b8a82b4e",
   "metadata": {},
   "source": [
    "## adjusting the values in size column:"
   ]
  },
  {
   "cell_type": "code",
   "execution_count": 7,
   "id": "700f3a9b",
   "metadata": {},
   "outputs": [
    {
     "data": {
      "text/plain": [
       "array(['2 BHK', '4 Bedroom', '3 BHK', '3 Bedroom', '1 BHK', '1 RK',\n",
       "       '4 BHK', '1 Bedroom', '2 Bedroom', '6 Bedroom', '8 Bedroom',\n",
       "       '7 Bedroom', '5 BHK', '7 BHK', '6 BHK', '5 Bedroom', '11 BHK',\n",
       "       '9 BHK', '9 Bedroom', '27 BHK', '11 Bedroom', '43 Bedroom',\n",
       "       '14 BHK', '8 BHK', '12 Bedroom', '10 Bedroom', '13 BHK'],\n",
       "      dtype=object)"
      ]
     },
     "execution_count": 7,
     "metadata": {},
     "output_type": "execute_result"
    }
   ],
   "source": [
    "df['size'].unique()"
   ]
  },
  {
   "cell_type": "code",
   "execution_count": 8,
   "id": "8696408b",
   "metadata": {},
   "outputs": [],
   "source": [
    "def size_clear(string):\n",
    "    string=string.split(' ')[0]\n",
    "    string=int(string)\n",
    "    return string"
   ]
  },
  {
   "cell_type": "code",
   "execution_count": 9,
   "id": "a1e06ada",
   "metadata": {},
   "outputs": [
    {
     "data": {
      "text/html": [
       "<div>\n",
       "<style scoped>\n",
       "    .dataframe tbody tr th:only-of-type {\n",
       "        vertical-align: middle;\n",
       "    }\n",
       "\n",
       "    .dataframe tbody tr th {\n",
       "        vertical-align: top;\n",
       "    }\n",
       "\n",
       "    .dataframe thead th {\n",
       "        text-align: right;\n",
       "    }\n",
       "</style>\n",
       "<table border=\"1\" class=\"dataframe\">\n",
       "  <thead>\n",
       "    <tr style=\"text-align: right;\">\n",
       "      <th></th>\n",
       "      <th>area_type</th>\n",
       "      <th>location</th>\n",
       "      <th>size</th>\n",
       "      <th>total_sqft</th>\n",
       "      <th>bath</th>\n",
       "      <th>balcony</th>\n",
       "      <th>price</th>\n",
       "    </tr>\n",
       "  </thead>\n",
       "  <tbody>\n",
       "    <tr>\n",
       "      <th>0</th>\n",
       "      <td>Super built-up  Area</td>\n",
       "      <td>Electronic City Phase II</td>\n",
       "      <td>2</td>\n",
       "      <td>1056</td>\n",
       "      <td>2.0</td>\n",
       "      <td>1.0</td>\n",
       "      <td>39.07</td>\n",
       "    </tr>\n",
       "    <tr>\n",
       "      <th>1</th>\n",
       "      <td>Plot  Area</td>\n",
       "      <td>Chikka Tirupathi</td>\n",
       "      <td>4</td>\n",
       "      <td>2600</td>\n",
       "      <td>5.0</td>\n",
       "      <td>3.0</td>\n",
       "      <td>120.00</td>\n",
       "    </tr>\n",
       "    <tr>\n",
       "      <th>2</th>\n",
       "      <td>Built-up  Area</td>\n",
       "      <td>Uttarahalli</td>\n",
       "      <td>3</td>\n",
       "      <td>1440</td>\n",
       "      <td>2.0</td>\n",
       "      <td>3.0</td>\n",
       "      <td>62.00</td>\n",
       "    </tr>\n",
       "    <tr>\n",
       "      <th>3</th>\n",
       "      <td>Super built-up  Area</td>\n",
       "      <td>Lingadheeranahalli</td>\n",
       "      <td>3</td>\n",
       "      <td>1521</td>\n",
       "      <td>3.0</td>\n",
       "      <td>1.0</td>\n",
       "      <td>95.00</td>\n",
       "    </tr>\n",
       "    <tr>\n",
       "      <th>4</th>\n",
       "      <td>Super built-up  Area</td>\n",
       "      <td>Kothanur</td>\n",
       "      <td>2</td>\n",
       "      <td>1200</td>\n",
       "      <td>2.0</td>\n",
       "      <td>1.0</td>\n",
       "      <td>51.00</td>\n",
       "    </tr>\n",
       "    <tr>\n",
       "      <th>...</th>\n",
       "      <td>...</td>\n",
       "      <td>...</td>\n",
       "      <td>...</td>\n",
       "      <td>...</td>\n",
       "      <td>...</td>\n",
       "      <td>...</td>\n",
       "      <td>...</td>\n",
       "    </tr>\n",
       "    <tr>\n",
       "      <th>13314</th>\n",
       "      <td>Super built-up  Area</td>\n",
       "      <td>Green Glen Layout</td>\n",
       "      <td>3</td>\n",
       "      <td>1715</td>\n",
       "      <td>3.0</td>\n",
       "      <td>3.0</td>\n",
       "      <td>112.00</td>\n",
       "    </tr>\n",
       "    <tr>\n",
       "      <th>13315</th>\n",
       "      <td>Built-up  Area</td>\n",
       "      <td>Whitefield</td>\n",
       "      <td>5</td>\n",
       "      <td>3453</td>\n",
       "      <td>4.0</td>\n",
       "      <td>0.0</td>\n",
       "      <td>231.00</td>\n",
       "    </tr>\n",
       "    <tr>\n",
       "      <th>13317</th>\n",
       "      <td>Built-up  Area</td>\n",
       "      <td>Raja Rajeshwari Nagar</td>\n",
       "      <td>2</td>\n",
       "      <td>1141</td>\n",
       "      <td>2.0</td>\n",
       "      <td>1.0</td>\n",
       "      <td>60.00</td>\n",
       "    </tr>\n",
       "    <tr>\n",
       "      <th>13318</th>\n",
       "      <td>Super built-up  Area</td>\n",
       "      <td>Padmanabhanagar</td>\n",
       "      <td>4</td>\n",
       "      <td>4689</td>\n",
       "      <td>4.0</td>\n",
       "      <td>1.0</td>\n",
       "      <td>488.00</td>\n",
       "    </tr>\n",
       "    <tr>\n",
       "      <th>13319</th>\n",
       "      <td>Super built-up  Area</td>\n",
       "      <td>Doddathoguru</td>\n",
       "      <td>1</td>\n",
       "      <td>550</td>\n",
       "      <td>1.0</td>\n",
       "      <td>1.0</td>\n",
       "      <td>17.00</td>\n",
       "    </tr>\n",
       "  </tbody>\n",
       "</table>\n",
       "<p>12710 rows × 7 columns</p>\n",
       "</div>"
      ],
      "text/plain": [
       "                  area_type                  location  size total_sqft  bath  \\\n",
       "0      Super built-up  Area  Electronic City Phase II     2       1056   2.0   \n",
       "1                Plot  Area          Chikka Tirupathi     4       2600   5.0   \n",
       "2            Built-up  Area               Uttarahalli     3       1440   2.0   \n",
       "3      Super built-up  Area        Lingadheeranahalli     3       1521   3.0   \n",
       "4      Super built-up  Area                  Kothanur     2       1200   2.0   \n",
       "...                     ...                       ...   ...        ...   ...   \n",
       "13314  Super built-up  Area         Green Glen Layout     3       1715   3.0   \n",
       "13315        Built-up  Area                Whitefield     5       3453   4.0   \n",
       "13317        Built-up  Area     Raja Rajeshwari Nagar     2       1141   2.0   \n",
       "13318  Super built-up  Area           Padmanabhanagar     4       4689   4.0   \n",
       "13319  Super built-up  Area              Doddathoguru     1        550   1.0   \n",
       "\n",
       "       balcony   price  \n",
       "0          1.0   39.07  \n",
       "1          3.0  120.00  \n",
       "2          3.0   62.00  \n",
       "3          1.0   95.00  \n",
       "4          1.0   51.00  \n",
       "...        ...     ...  \n",
       "13314      3.0  112.00  \n",
       "13315      0.0  231.00  \n",
       "13317      1.0   60.00  \n",
       "13318      1.0  488.00  \n",
       "13319      1.0   17.00  \n",
       "\n",
       "[12710 rows x 7 columns]"
      ]
     },
     "execution_count": 9,
     "metadata": {},
     "output_type": "execute_result"
    }
   ],
   "source": [
    "df['size']=df['size'].apply(size_clear)\n",
    "df"
   ]
  },
  {
   "cell_type": "markdown",
   "id": "ed50ee84",
   "metadata": {},
   "source": [
    "### Verifying other discrete numerical values:"
   ]
  },
  {
   "cell_type": "code",
   "execution_count": 10,
   "id": "400f8bf4",
   "metadata": {},
   "outputs": [
    {
     "data": {
      "text/plain": [
       "array([ 2.,  5.,  3.,  4.,  1.,  8.,  7.,  6.,  9., 27., 11., 12., 10.,\n",
       "       40., 15., 13.])"
      ]
     },
     "execution_count": 10,
     "metadata": {},
     "output_type": "execute_result"
    }
   ],
   "source": [
    "df['bath'].unique()"
   ]
  },
  {
   "cell_type": "code",
   "execution_count": 11,
   "id": "2557b1cd",
   "metadata": {},
   "outputs": [
    {
     "data": {
      "text/plain": [
       "array([1., 3., 2., 0.])"
      ]
     },
     "execution_count": 11,
     "metadata": {},
     "output_type": "execute_result"
    }
   ],
   "source": [
    "df['balcony'].unique()"
   ]
  },
  {
   "cell_type": "markdown",
   "id": "f7c503a7",
   "metadata": {},
   "source": [
    "## Verifying total_sqft values:"
   ]
  },
  {
   "cell_type": "code",
   "execution_count": 12,
   "id": "1fcc527d",
   "metadata": {},
   "outputs": [
    {
     "data": {
      "text/plain": [
       "array(['1056', '2600', '1440', ..., '1133 - 1384', '774', '4689'],\n",
       "      dtype=object)"
      ]
     },
     "execution_count": 12,
     "metadata": {},
     "output_type": "execute_result"
    }
   ],
   "source": [
    "df['total_sqft'].unique()"
   ]
  },
  {
   "cell_type": "markdown",
   "id": "f3c37aac",
   "metadata": {},
   "source": [
    "### correcting total_sqft values:"
   ]
  },
  {
   "cell_type": "code",
   "execution_count": 13,
   "id": "22513992",
   "metadata": {},
   "outputs": [],
   "source": [
    "def correcting_total_sqft(val):\n",
    "    x=None\n",
    "    try:\n",
    "        x=float(val)\n",
    "    except:\n",
    "        try:\n",
    "            x_list=list(val.strip(' - '))\n",
    "            \n",
    "            x=(float(x_list[0])+float(x_list[1]))/2\n",
    "        except:\n",
    "            x=None\n",
    "    return x"
   ]
  },
  {
   "cell_type": "code",
   "execution_count": 14,
   "id": "809963be",
   "metadata": {},
   "outputs": [],
   "source": [
    "df['total_sqft']=df['total_sqft'].apply(correcting_total_sqft)"
   ]
  },
  {
   "cell_type": "markdown",
   "id": "63143189",
   "metadata": {},
   "source": [
    "### Eliminating NaN values:"
   ]
  },
  {
   "cell_type": "code",
   "execution_count": 15,
   "id": "9b50d00b",
   "metadata": {},
   "outputs": [
    {
     "data": {
      "text/plain": [
       "8"
      ]
     },
     "execution_count": 15,
     "metadata": {},
     "output_type": "execute_result"
    }
   ],
   "source": [
    "df['total_sqft'].isnull().sum()"
   ]
  },
  {
   "cell_type": "code",
   "execution_count": 16,
   "id": "eec0a030",
   "metadata": {},
   "outputs": [],
   "source": [
    "df=df.dropna()"
   ]
  },
  {
   "cell_type": "code",
   "execution_count": 17,
   "id": "148b9699",
   "metadata": {},
   "outputs": [
    {
     "data": {
      "text/plain": [
       "0"
      ]
     },
     "execution_count": 17,
     "metadata": {},
     "output_type": "execute_result"
    }
   ],
   "source": [
    "df['total_sqft'].isnull().sum()"
   ]
  },
  {
   "cell_type": "code",
   "execution_count": 18,
   "id": "fa022823",
   "metadata": {},
   "outputs": [
    {
     "data": {
      "text/plain": [
       "(12702, 7)"
      ]
     },
     "execution_count": 18,
     "metadata": {},
     "output_type": "execute_result"
    }
   ],
   "source": [
    "df.shape"
   ]
  },
  {
   "cell_type": "markdown",
   "id": "ab08ec7a",
   "metadata": {},
   "source": [
    "## Verifying the location values:"
   ]
  },
  {
   "cell_type": "code",
   "execution_count": 19,
   "id": "02cba96d",
   "metadata": {},
   "outputs": [
    {
     "data": {
      "text/plain": [
       "1262"
      ]
     },
     "execution_count": 19,
     "metadata": {},
     "output_type": "execute_result"
    }
   ],
   "source": [
    "df['location'].nunique()"
   ]
  },
  {
   "cell_type": "code",
   "execution_count": 20,
   "id": "120a19c3",
   "metadata": {},
   "outputs": [
    {
     "data": {
      "text/plain": [
       "location\n",
       "Whitefield              514\n",
       "Sarjapur  Road          372\n",
       "Electronic City         300\n",
       "Kanakpura Road          259\n",
       "Thanisandra             231\n",
       "                       ... \n",
       "Kalhalli                  1\n",
       "Kalkere Channasandra      1\n",
       " Banaswadi                1\n",
       "Kamdhenu Nagar            1\n",
       "whitefiled                1\n",
       "Name: location, Length: 1262, dtype: int64"
      ]
     },
     "execution_count": 20,
     "metadata": {},
     "output_type": "execute_result"
    }
   ],
   "source": [
    "locations=df.groupby('location')['location'].count().sort_values(ascending=False)\n",
    "locations"
   ]
  },
  {
   "cell_type": "code",
   "execution_count": 21,
   "id": "5ee6c841",
   "metadata": {},
   "outputs": [
    {
     "data": {
      "text/plain": [
       "1025"
      ]
     },
     "execution_count": 21,
     "metadata": {},
     "output_type": "execute_result"
    }
   ],
   "source": [
    "len(locations[locations<=10])"
   ]
  },
  {
   "cell_type": "code",
   "execution_count": 22,
   "id": "6875a862",
   "metadata": {},
   "outputs": [],
   "source": [
    "rare_locs=locations[locations<=10]"
   ]
  },
  {
   "cell_type": "code",
   "execution_count": 23,
   "id": "43fba779",
   "metadata": {},
   "outputs": [],
   "source": [
    "def loc_assign(loc):\n",
    "    if loc in rare_locs:\n",
    "        return 'other'\n",
    "    else:\n",
    "        return loc"
   ]
  },
  {
   "cell_type": "code",
   "execution_count": 24,
   "id": "5d0f34e7",
   "metadata": {},
   "outputs": [
    {
     "name": "stderr",
     "output_type": "stream",
     "text": [
      "C:\\Users\\MYPC\\AppData\\Local\\Temp\\ipykernel_1920\\4263921389.py:1: SettingWithCopyWarning: \n",
      "A value is trying to be set on a copy of a slice from a DataFrame.\n",
      "Try using .loc[row_indexer,col_indexer] = value instead\n",
      "\n",
      "See the caveats in the documentation: https://pandas.pydata.org/pandas-docs/stable/user_guide/indexing.html#returning-a-view-versus-a-copy\n",
      "  df['location']=df['location'].apply(loc_assign)\n"
     ]
    }
   ],
   "source": [
    "df['location']=df['location'].apply(loc_assign)"
   ]
  },
  {
   "cell_type": "code",
   "execution_count": 25,
   "id": "13c18cb7",
   "metadata": {},
   "outputs": [
    {
     "data": {
      "text/plain": [
       "238"
      ]
     },
     "execution_count": 25,
     "metadata": {},
     "output_type": "execute_result"
    }
   ],
   "source": [
    "df['location'].nunique()"
   ]
  },
  {
   "cell_type": "markdown",
   "id": "28618b2c",
   "metadata": {},
   "source": [
    "## Setting up a new feature: Price per sqft:"
   ]
  },
  {
   "cell_type": "code",
   "execution_count": 26,
   "id": "4b4038d4",
   "metadata": {},
   "outputs": [
    {
     "data": {
      "text/html": [
       "<div>\n",
       "<style scoped>\n",
       "    .dataframe tbody tr th:only-of-type {\n",
       "        vertical-align: middle;\n",
       "    }\n",
       "\n",
       "    .dataframe tbody tr th {\n",
       "        vertical-align: top;\n",
       "    }\n",
       "\n",
       "    .dataframe thead th {\n",
       "        text-align: right;\n",
       "    }\n",
       "</style>\n",
       "<table border=\"1\" class=\"dataframe\">\n",
       "  <thead>\n",
       "    <tr style=\"text-align: right;\">\n",
       "      <th></th>\n",
       "      <th>area_type</th>\n",
       "      <th>location</th>\n",
       "      <th>size</th>\n",
       "      <th>total_sqft</th>\n",
       "      <th>bath</th>\n",
       "      <th>balcony</th>\n",
       "      <th>price</th>\n",
       "    </tr>\n",
       "  </thead>\n",
       "  <tbody>\n",
       "    <tr>\n",
       "      <th>9045</th>\n",
       "      <td>Super built-up  Area</td>\n",
       "      <td>Gunjur</td>\n",
       "      <td>2</td>\n",
       "      <td>1063.0</td>\n",
       "      <td>2.0</td>\n",
       "      <td>2.0</td>\n",
       "      <td>40.0</td>\n",
       "    </tr>\n",
       "    <tr>\n",
       "      <th>8838</th>\n",
       "      <td>Super built-up  Area</td>\n",
       "      <td>Kodichikkanahalli</td>\n",
       "      <td>2</td>\n",
       "      <td>900.0</td>\n",
       "      <td>2.0</td>\n",
       "      <td>1.0</td>\n",
       "      <td>42.0</td>\n",
       "    </tr>\n",
       "    <tr>\n",
       "      <th>2373</th>\n",
       "      <td>Plot  Area</td>\n",
       "      <td>8th Phase JP Nagar</td>\n",
       "      <td>4</td>\n",
       "      <td>1200.0</td>\n",
       "      <td>4.0</td>\n",
       "      <td>2.0</td>\n",
       "      <td>145.0</td>\n",
       "    </tr>\n",
       "    <tr>\n",
       "      <th>4514</th>\n",
       "      <td>Super built-up  Area</td>\n",
       "      <td>Marathahalli</td>\n",
       "      <td>2</td>\n",
       "      <td>1360.0</td>\n",
       "      <td>2.0</td>\n",
       "      <td>1.0</td>\n",
       "      <td>103.0</td>\n",
       "    </tr>\n",
       "    <tr>\n",
       "      <th>3475</th>\n",
       "      <td>Super built-up  Area</td>\n",
       "      <td>Somasundara Palya</td>\n",
       "      <td>2</td>\n",
       "      <td>1174.0</td>\n",
       "      <td>2.0</td>\n",
       "      <td>3.0</td>\n",
       "      <td>74.0</td>\n",
       "    </tr>\n",
       "  </tbody>\n",
       "</table>\n",
       "</div>"
      ],
      "text/plain": [
       "                 area_type            location  size  total_sqft  bath  \\\n",
       "9045  Super built-up  Area              Gunjur     2      1063.0   2.0   \n",
       "8838  Super built-up  Area   Kodichikkanahalli     2       900.0   2.0   \n",
       "2373            Plot  Area  8th Phase JP Nagar     4      1200.0   4.0   \n",
       "4514  Super built-up  Area        Marathahalli     2      1360.0   2.0   \n",
       "3475  Super built-up  Area   Somasundara Palya     2      1174.0   2.0   \n",
       "\n",
       "      balcony  price  \n",
       "9045      2.0   40.0  \n",
       "8838      1.0   42.0  \n",
       "2373      2.0  145.0  \n",
       "4514      1.0  103.0  \n",
       "3475      3.0   74.0  "
      ]
     },
     "execution_count": 26,
     "metadata": {},
     "output_type": "execute_result"
    }
   ],
   "source": [
    "df.sample(5)"
   ]
  },
  {
   "cell_type": "code",
   "execution_count": 27,
   "id": "f6dad230",
   "metadata": {},
   "outputs": [
    {
     "name": "stderr",
     "output_type": "stream",
     "text": [
      "C:\\Users\\MYPC\\AppData\\Local\\Temp\\ipykernel_1920\\2261337584.py:1: SettingWithCopyWarning: \n",
      "A value is trying to be set on a copy of a slice from a DataFrame.\n",
      "Try using .loc[row_indexer,col_indexer] = value instead\n",
      "\n",
      "See the caveats in the documentation: https://pandas.pydata.org/pandas-docs/stable/user_guide/indexing.html#returning-a-view-versus-a-copy\n",
      "  df['price_per_sqft']=(df['price']*100000)/df['total_sqft']\n"
     ]
    }
   ],
   "source": [
    "df['price_per_sqft']=(df['price']*100000)/df['total_sqft']"
   ]
  },
  {
   "cell_type": "code",
   "execution_count": 28,
   "id": "64a01f7c",
   "metadata": {},
   "outputs": [
    {
     "data": {
      "text/html": [
       "<div>\n",
       "<style scoped>\n",
       "    .dataframe tbody tr th:only-of-type {\n",
       "        vertical-align: middle;\n",
       "    }\n",
       "\n",
       "    .dataframe tbody tr th {\n",
       "        vertical-align: top;\n",
       "    }\n",
       "\n",
       "    .dataframe thead th {\n",
       "        text-align: right;\n",
       "    }\n",
       "</style>\n",
       "<table border=\"1\" class=\"dataframe\">\n",
       "  <thead>\n",
       "    <tr style=\"text-align: right;\">\n",
       "      <th></th>\n",
       "      <th>area_type</th>\n",
       "      <th>location</th>\n",
       "      <th>size</th>\n",
       "      <th>total_sqft</th>\n",
       "      <th>bath</th>\n",
       "      <th>balcony</th>\n",
       "      <th>price</th>\n",
       "      <th>price_per_sqft</th>\n",
       "    </tr>\n",
       "  </thead>\n",
       "  <tbody>\n",
       "    <tr>\n",
       "      <th>6130</th>\n",
       "      <td>Super built-up  Area</td>\n",
       "      <td>Hoodi</td>\n",
       "      <td>2</td>\n",
       "      <td>1305.0</td>\n",
       "      <td>2.0</td>\n",
       "      <td>1.0</td>\n",
       "      <td>75.0</td>\n",
       "      <td>5747.126437</td>\n",
       "    </tr>\n",
       "    <tr>\n",
       "      <th>12926</th>\n",
       "      <td>Super built-up  Area</td>\n",
       "      <td>Sarjapur  Road</td>\n",
       "      <td>3</td>\n",
       "      <td>1691.0</td>\n",
       "      <td>3.0</td>\n",
       "      <td>2.0</td>\n",
       "      <td>100.0</td>\n",
       "      <td>5913.660556</td>\n",
       "    </tr>\n",
       "    <tr>\n",
       "      <th>6306</th>\n",
       "      <td>Built-up  Area</td>\n",
       "      <td>Hosur Road</td>\n",
       "      <td>5</td>\n",
       "      <td>3600.0</td>\n",
       "      <td>5.0</td>\n",
       "      <td>3.0</td>\n",
       "      <td>180.0</td>\n",
       "      <td>5000.000000</td>\n",
       "    </tr>\n",
       "    <tr>\n",
       "      <th>6371</th>\n",
       "      <td>Super built-up  Area</td>\n",
       "      <td>other</td>\n",
       "      <td>2</td>\n",
       "      <td>1464.0</td>\n",
       "      <td>2.0</td>\n",
       "      <td>2.0</td>\n",
       "      <td>56.0</td>\n",
       "      <td>3825.136612</td>\n",
       "    </tr>\n",
       "    <tr>\n",
       "      <th>5276</th>\n",
       "      <td>Super built-up  Area</td>\n",
       "      <td>Kaikondrahalli</td>\n",
       "      <td>2</td>\n",
       "      <td>849.0</td>\n",
       "      <td>2.0</td>\n",
       "      <td>1.0</td>\n",
       "      <td>25.4</td>\n",
       "      <td>2991.755006</td>\n",
       "    </tr>\n",
       "  </tbody>\n",
       "</table>\n",
       "</div>"
      ],
      "text/plain": [
       "                  area_type        location  size  total_sqft  bath  balcony  \\\n",
       "6130   Super built-up  Area           Hoodi     2      1305.0   2.0      1.0   \n",
       "12926  Super built-up  Area  Sarjapur  Road     3      1691.0   3.0      2.0   \n",
       "6306         Built-up  Area      Hosur Road     5      3600.0   5.0      3.0   \n",
       "6371   Super built-up  Area           other     2      1464.0   2.0      2.0   \n",
       "5276   Super built-up  Area  Kaikondrahalli     2       849.0   2.0      1.0   \n",
       "\n",
       "       price  price_per_sqft  \n",
       "6130    75.0     5747.126437  \n",
       "12926  100.0     5913.660556  \n",
       "6306   180.0     5000.000000  \n",
       "6371    56.0     3825.136612  \n",
       "5276    25.4     2991.755006  "
      ]
     },
     "execution_count": 28,
     "metadata": {},
     "output_type": "execute_result"
    }
   ],
   "source": [
    "df.sample(5)"
   ]
  },
  {
   "cell_type": "code",
   "execution_count": 29,
   "id": "6f3e70dc",
   "metadata": {},
   "outputs": [
    {
     "data": {
      "text/plain": [
       "2749"
      ]
     },
     "execution_count": 29,
     "metadata": {},
     "output_type": "execute_result"
    }
   ],
   "source": [
    "df[df['location']=='other']['location'].count()"
   ]
  },
  {
   "cell_type": "code",
   "execution_count": 30,
   "id": "4167c617",
   "metadata": {},
   "outputs": [
    {
     "data": {
      "text/plain": [
       "(12702, 8)"
      ]
     },
     "execution_count": 30,
     "metadata": {},
     "output_type": "execute_result"
    }
   ],
   "source": [
    "df.shape"
   ]
  },
  {
   "cell_type": "markdown",
   "id": "948212c1",
   "metadata": {},
   "source": [
    "## Removing outliers:"
   ]
  },
  {
   "cell_type": "markdown",
   "id": "54e04cc5",
   "metadata": {},
   "source": [
    "#### A typical bedroom area will be around 300 sqft, so setting 300 as the minimum threshold to detect the outliers. Removing outliers as per the following condition:"
   ]
  },
  {
   "cell_type": "code",
   "execution_count": 31,
   "id": "91b182e2",
   "metadata": {},
   "outputs": [
    {
     "data": {
      "text/plain": [
       "(11703, 8)"
      ]
     },
     "execution_count": 31,
     "metadata": {},
     "output_type": "execute_result"
    }
   ],
   "source": [
    "df1=df.copy()\n",
    "df1=df1[(df1['total_sqft']/df['size'])>300]\n",
    "df1.shape"
   ]
  },
  {
   "cell_type": "markdown",
   "id": "e8133efc",
   "metadata": {},
   "source": [
    "#### Removing outliers on the basis of price_per_sqft:"
   ]
  },
  {
   "cell_type": "code",
   "execution_count": 32,
   "id": "84bec7de",
   "metadata": {},
   "outputs": [
    {
     "data": {
      "text/plain": [
       "count     11703.000000\n",
       "mean       6135.971418\n",
       "std        3913.970287\n",
       "min         267.829813\n",
       "25%        4185.898574\n",
       "50%        5238.319962\n",
       "75%        6764.705882\n",
       "max      176470.588235\n",
       "Name: price_per_sqft, dtype: float64"
      ]
     },
     "execution_count": 32,
     "metadata": {},
     "output_type": "execute_result"
    }
   ],
   "source": [
    "df1['price_per_sqft'].describe()"
   ]
  },
  {
   "cell_type": "code",
   "execution_count": 33,
   "id": "1616e520",
   "metadata": {},
   "outputs": [],
   "source": [
    "def filtering_price_per_sqft(df):\n",
    "    final_df=pd.DataFrame()\n",
    "    for loc,subdf in df.groupby('location'):\n",
    "        m=np.mean(subdf['price_per_sqft'])\n",
    "        sd=np.std(subdf['price_per_sqft'])\n",
    "        pre_final_df=subdf[(subdf['price_per_sqft']>(m-sd)) & (subdf['price_per_sqft']<=(m+sd))]\n",
    "        final_df=pd.concat([final_df,pre_final_df],ignore_index=True)\n",
    "        \n",
    "    return final_df"
   ]
  },
  {
   "cell_type": "code",
   "execution_count": 34,
   "id": "79b6a6d0",
   "metadata": {},
   "outputs": [
    {
     "data": {
      "text/html": [
       "<div>\n",
       "<style scoped>\n",
       "    .dataframe tbody tr th:only-of-type {\n",
       "        vertical-align: middle;\n",
       "    }\n",
       "\n",
       "    .dataframe tbody tr th {\n",
       "        vertical-align: top;\n",
       "    }\n",
       "\n",
       "    .dataframe thead th {\n",
       "        text-align: right;\n",
       "    }\n",
       "</style>\n",
       "<table border=\"1\" class=\"dataframe\">\n",
       "  <thead>\n",
       "    <tr style=\"text-align: right;\">\n",
       "      <th></th>\n",
       "      <th>area_type</th>\n",
       "      <th>location</th>\n",
       "      <th>size</th>\n",
       "      <th>total_sqft</th>\n",
       "      <th>bath</th>\n",
       "      <th>balcony</th>\n",
       "      <th>price</th>\n",
       "      <th>price_per_sqft</th>\n",
       "    </tr>\n",
       "  </thead>\n",
       "  <tbody>\n",
       "    <tr>\n",
       "      <th>7643</th>\n",
       "      <td>Built-up  Area</td>\n",
       "      <td>other</td>\n",
       "      <td>2</td>\n",
       "      <td>1367.0</td>\n",
       "      <td>2.0</td>\n",
       "      <td>2.0</td>\n",
       "      <td>62.0</td>\n",
       "      <td>4535.479151</td>\n",
       "    </tr>\n",
       "    <tr>\n",
       "      <th>3182</th>\n",
       "      <td>Super built-up  Area</td>\n",
       "      <td>Hulimavu</td>\n",
       "      <td>3</td>\n",
       "      <td>1260.0</td>\n",
       "      <td>2.0</td>\n",
       "      <td>1.0</td>\n",
       "      <td>82.0</td>\n",
       "      <td>6507.936508</td>\n",
       "    </tr>\n",
       "    <tr>\n",
       "      <th>3223</th>\n",
       "      <td>Carpet  Area</td>\n",
       "      <td>Indira Nagar</td>\n",
       "      <td>3</td>\n",
       "      <td>1875.0</td>\n",
       "      <td>3.0</td>\n",
       "      <td>1.0</td>\n",
       "      <td>180.0</td>\n",
       "      <td>9600.000000</td>\n",
       "    </tr>\n",
       "    <tr>\n",
       "      <th>9342</th>\n",
       "      <td>Super built-up  Area</td>\n",
       "      <td>other</td>\n",
       "      <td>2</td>\n",
       "      <td>1100.0</td>\n",
       "      <td>2.0</td>\n",
       "      <td>2.0</td>\n",
       "      <td>38.0</td>\n",
       "      <td>3454.545455</td>\n",
       "    </tr>\n",
       "    <tr>\n",
       "      <th>7883</th>\n",
       "      <td>Super built-up  Area</td>\n",
       "      <td>other</td>\n",
       "      <td>2</td>\n",
       "      <td>1100.0</td>\n",
       "      <td>2.0</td>\n",
       "      <td>3.0</td>\n",
       "      <td>61.0</td>\n",
       "      <td>5545.454545</td>\n",
       "    </tr>\n",
       "  </tbody>\n",
       "</table>\n",
       "</div>"
      ],
      "text/plain": [
       "                 area_type      location  size  total_sqft  bath  balcony  \\\n",
       "7643        Built-up  Area         other     2      1367.0   2.0      2.0   \n",
       "3182  Super built-up  Area      Hulimavu     3      1260.0   2.0      1.0   \n",
       "3223          Carpet  Area  Indira Nagar     3      1875.0   3.0      1.0   \n",
       "9342  Super built-up  Area         other     2      1100.0   2.0      2.0   \n",
       "7883  Super built-up  Area         other     2      1100.0   2.0      3.0   \n",
       "\n",
       "      price  price_per_sqft  \n",
       "7643   62.0     4535.479151  \n",
       "3182   82.0     6507.936508  \n",
       "3223  180.0     9600.000000  \n",
       "9342   38.0     3454.545455  \n",
       "7883   61.0     5545.454545  "
      ]
     },
     "execution_count": 34,
     "metadata": {},
     "output_type": "execute_result"
    }
   ],
   "source": [
    "df1=filtering_price_per_sqft(df1)\n",
    "df1.sample(5)"
   ]
  },
  {
   "cell_type": "code",
   "execution_count": 35,
   "id": "9c1385ed",
   "metadata": {},
   "outputs": [
    {
     "data": {
      "text/plain": [
       "(9569, 8)"
      ]
     },
     "execution_count": 35,
     "metadata": {},
     "output_type": "execute_result"
    }
   ],
   "source": [
    "df1.shape"
   ]
  },
  {
   "cell_type": "markdown",
   "id": "e3f71f12",
   "metadata": {},
   "source": [
    "### In a particular location, 2BHK appartment costs less than a 3BHK appartment, so we must make sure that the prices are valid or not:"
   ]
  },
  {
   "cell_type": "markdown",
   "id": "76552a74",
   "metadata": {},
   "source": [
    "#### investigating through visualization:"
   ]
  },
  {
   "cell_type": "code",
   "execution_count": 36,
   "id": "772e2b90",
   "metadata": {},
   "outputs": [],
   "source": [
    "def bhks_price_analysis(df,loc):\n",
    "    df_2bhk=df[(df['size']==2) & (df['location']==loc)]\n",
    "    df_3bhk=df[(df['size']==3) & (df['location']==loc)]\n",
    "    plt.scatter(df_2bhk['total_sqft'],df_2bhk['price_per_sqft'],label='2 BHK')\n",
    "    plt.scatter(df_3bhk['total_sqft'],df_3bhk['price_per_sqft'],label='3 BHK')\n",
    "    plt.xlabel('Total Sqft')\n",
    "    plt.ylabel('Total Price')\n",
    "    plt.title(loc)\n",
    "    plt.legend()"
   ]
  },
  {
   "cell_type": "code",
   "execution_count": 37,
   "id": "5f807a73",
   "metadata": {},
   "outputs": [
    {
     "data": {
      "image/png": "[encoded data removed]",
      "text/plain": [
       "<Figure size 432x288 with 1 Axes>"
      ]
     },
     "metadata": {},
     "output_type": "display_data"
    }
   ],
   "source": [
    "bhks_price_analysis(df1,\"Whitefield\")"
   ]
  },
  {
   "cell_type": "code",
   "execution_count": 38,
   "id": "f332810c",
   "metadata": {},
   "outputs": [
    {
     "data": {
      "image/png": "[encoded data removed]",
      "text/plain": [
       "<Figure size 432x288 with 1 Axes>"
      ]
     },
     "metadata": {},
     "output_type": "display_data"
    }
   ],
   "source": [
    "bhks_price_analysis(df1,\"Rajaji Nagar\")"
   ]
  },
  {
   "cell_type": "code",
   "execution_count": 39,
   "id": "1281ceba",
   "metadata": {},
   "outputs": [
    {
     "data": {
      "image/png": "[encoded data removed]",
      "text/plain": [
       "<Figure size 432x288 with 1 Axes>"
      ]
     },
     "metadata": {},
     "output_type": "display_data"
    }
   ],
   "source": [
    "bhks_price_analysis(df1,\"Hebbal\")"
   ]
  },
  {
   "cell_type": "markdown",
   "id": "de780bf8",
   "metadata": {},
   "source": [
    "### Removing outliers price_per_sqft and bedrooms:"
   ]
  },
  {
   "cell_type": "code",
   "execution_count": 40,
   "id": "d81c4726",
   "metadata": {},
   "outputs": [],
   "source": [
    "def price_per_sqft_outlier_remover(df):\n",
    "    eliminations=np.array([])\n",
    "    for loc,loc_df in df.groupby('location'):\n",
    "        bhk_stats=dict()\n",
    "        for bhk,bhk_df in loc_df.groupby('size'):\n",
    "            bhk_stats[bhk]={\n",
    "                'mean':np.mean(bhk_df['price_per_sqft']),\n",
    "                'count':bhk_df.shape[0]\n",
    "            }\n",
    "        \n",
    "        for bhk,bhk_df in loc_df.groupby('size'):\n",
    "            stats=bhk_stats.get(bhk-1)\n",
    "            if stats and stats['count']>5:\n",
    "                eliminations=np.append(eliminations,bhk_df[(bhk_df['price_per_sqft']<stats['mean'])].index.values)\n",
    "                \n",
    "    return df.drop(eliminations,axis=0)"
   ]
  },
  {
   "cell_type": "code",
   "execution_count": 41,
   "id": "a4072d2d",
   "metadata": {},
   "outputs": [],
   "source": [
    "df2=price_per_sqft_outlier_remover(df1)"
   ]
  },
  {
   "cell_type": "code",
   "execution_count": 42,
   "id": "7090ae91",
   "metadata": {},
   "outputs": [
    {
     "data": {
      "image/png": "[encoded data removed]",
      "text/plain": [
       "<Figure size 432x288 with 1 Axes>"
      ]
     },
     "metadata": {},
     "output_type": "display_data"
    }
   ],
   "source": [
    "bhks_price_analysis(df2,\"Whitefield\")"
   ]
  },
  {
   "cell_type": "code",
   "execution_count": 43,
   "id": "d5c2ae85",
   "metadata": {},
   "outputs": [
    {
     "data": {
      "image/png": "[encoded data removed]",
      "text/plain": [
       "<Figure size 432x288 with 1 Axes>"
      ]
     },
     "metadata": {},
     "output_type": "display_data"
    }
   ],
   "source": [
    "bhks_price_analysis(df2,\"Rajaji Nagar\")"
   ]
  },
  {
   "cell_type": "code",
   "execution_count": 44,
   "id": "210a9d44",
   "metadata": {},
   "outputs": [
    {
     "data": {
      "image/png": "[encoded data removed]",
      "text/plain": [
       "<Figure size 432x288 with 1 Axes>"
      ]
     },
     "metadata": {},
     "output_type": "display_data"
    }
   ],
   "source": [
    "bhks_price_analysis(df2,\"Hebbal\")"
   ]
  },
  {
   "cell_type": "code",
   "execution_count": 45,
   "id": "8f0b5061",
   "metadata": {},
   "outputs": [
    {
     "data": {
      "text/plain": [
       "(6803, 8)"
      ]
     },
     "execution_count": 45,
     "metadata": {},
     "output_type": "execute_result"
    }
   ],
   "source": [
    "df2.shape"
   ]
  },
  {
   "cell_type": "markdown",
   "id": "cc2a92aa",
   "metadata": {},
   "source": [
    "### removing outliers on the basis of number of bathrooms:"
   ]
  },
  {
   "cell_type": "code",
   "execution_count": 46,
   "id": "eb6d2a2c",
   "metadata": {},
   "outputs": [
    {
     "data": {
      "text/html": [
       "<div>\n",
       "<style scoped>\n",
       "    .dataframe tbody tr th:only-of-type {\n",
       "        vertical-align: middle;\n",
       "    }\n",
       "\n",
       "    .dataframe tbody tr th {\n",
       "        vertical-align: top;\n",
       "    }\n",
       "\n",
       "    .dataframe thead th {\n",
       "        text-align: right;\n",
       "    }\n",
       "</style>\n",
       "<table border=\"1\" class=\"dataframe\">\n",
       "  <thead>\n",
       "    <tr style=\"text-align: right;\">\n",
       "      <th></th>\n",
       "      <th>area_type</th>\n",
       "      <th>location</th>\n",
       "      <th>size</th>\n",
       "      <th>total_sqft</th>\n",
       "      <th>bath</th>\n",
       "      <th>balcony</th>\n",
       "      <th>price</th>\n",
       "      <th>price_per_sqft</th>\n",
       "    </tr>\n",
       "  </thead>\n",
       "  <tbody>\n",
       "    <tr>\n",
       "      <th>1489</th>\n",
       "      <td>Built-up  Area</td>\n",
       "      <td>Chikkabanavar</td>\n",
       "      <td>4</td>\n",
       "      <td>2460.0</td>\n",
       "      <td>7.0</td>\n",
       "      <td>2.0</td>\n",
       "      <td>80.0</td>\n",
       "      <td>3252.032520</td>\n",
       "    </tr>\n",
       "    <tr>\n",
       "      <th>6261</th>\n",
       "      <td>Super built-up  Area</td>\n",
       "      <td>Thanisandra</td>\n",
       "      <td>3</td>\n",
       "      <td>1806.0</td>\n",
       "      <td>6.0</td>\n",
       "      <td>2.0</td>\n",
       "      <td>116.0</td>\n",
       "      <td>6423.034330</td>\n",
       "    </tr>\n",
       "    <tr>\n",
       "      <th>7852</th>\n",
       "      <td>Super built-up  Area</td>\n",
       "      <td>other</td>\n",
       "      <td>6</td>\n",
       "      <td>11338.0</td>\n",
       "      <td>9.0</td>\n",
       "      <td>1.0</td>\n",
       "      <td>1000.0</td>\n",
       "      <td>8819.897689</td>\n",
       "    </tr>\n",
       "  </tbody>\n",
       "</table>\n",
       "</div>"
      ],
      "text/plain": [
       "                 area_type       location  size  total_sqft  bath  balcony  \\\n",
       "1489        Built-up  Area  Chikkabanavar     4      2460.0   7.0      2.0   \n",
       "6261  Super built-up  Area    Thanisandra     3      1806.0   6.0      2.0   \n",
       "7852  Super built-up  Area          other     6     11338.0   9.0      1.0   \n",
       "\n",
       "       price  price_per_sqft  \n",
       "1489    80.0     3252.032520  \n",
       "6261   116.0     6423.034330  \n",
       "7852  1000.0     8819.897689  "
      ]
     },
     "execution_count": 46,
     "metadata": {},
     "output_type": "execute_result"
    }
   ],
   "source": [
    "df2[df2['bath']>df2['size']+2]"
   ]
  },
  {
   "cell_type": "code",
   "execution_count": 47,
   "id": "62d09168",
   "metadata": {},
   "outputs": [
    {
     "data": {
      "text/html": [
       "<div>\n",
       "<style scoped>\n",
       "    .dataframe tbody tr th:only-of-type {\n",
       "        vertical-align: middle;\n",
       "    }\n",
       "\n",
       "    .dataframe tbody tr th {\n",
       "        vertical-align: top;\n",
       "    }\n",
       "\n",
       "    .dataframe thead th {\n",
       "        text-align: right;\n",
       "    }\n",
       "</style>\n",
       "<table border=\"1\" class=\"dataframe\">\n",
       "  <thead>\n",
       "    <tr style=\"text-align: right;\">\n",
       "      <th></th>\n",
       "      <th>area_type</th>\n",
       "      <th>location</th>\n",
       "      <th>size</th>\n",
       "      <th>total_sqft</th>\n",
       "      <th>bath</th>\n",
       "      <th>balcony</th>\n",
       "      <th>price</th>\n",
       "      <th>price_per_sqft</th>\n",
       "    </tr>\n",
       "  </thead>\n",
       "  <tbody>\n",
       "    <tr>\n",
       "      <th>4857</th>\n",
       "      <td>Super built-up  Area</td>\n",
       "      <td>Nagarbhavi</td>\n",
       "      <td>2</td>\n",
       "      <td>1225.0</td>\n",
       "      <td>2.0</td>\n",
       "      <td>3.0</td>\n",
       "      <td>58.00</td>\n",
       "      <td>4734.693878</td>\n",
       "    </tr>\n",
       "    <tr>\n",
       "      <th>1277</th>\n",
       "      <td>Plot  Area</td>\n",
       "      <td>Brookefield</td>\n",
       "      <td>5</td>\n",
       "      <td>1950.0</td>\n",
       "      <td>6.0</td>\n",
       "      <td>3.0</td>\n",
       "      <td>175.00</td>\n",
       "      <td>8974.358974</td>\n",
       "    </tr>\n",
       "    <tr>\n",
       "      <th>9169</th>\n",
       "      <td>Super built-up  Area</td>\n",
       "      <td>other</td>\n",
       "      <td>3</td>\n",
       "      <td>1260.0</td>\n",
       "      <td>2.0</td>\n",
       "      <td>2.0</td>\n",
       "      <td>85.05</td>\n",
       "      <td>6750.000000</td>\n",
       "    </tr>\n",
       "    <tr>\n",
       "      <th>4791</th>\n",
       "      <td>Super built-up  Area</td>\n",
       "      <td>Mysore Road</td>\n",
       "      <td>2</td>\n",
       "      <td>1155.0</td>\n",
       "      <td>2.0</td>\n",
       "      <td>1.0</td>\n",
       "      <td>51.00</td>\n",
       "      <td>4415.584416</td>\n",
       "    </tr>\n",
       "    <tr>\n",
       "      <th>2709</th>\n",
       "      <td>Super built-up  Area</td>\n",
       "      <td>Hegde Nagar</td>\n",
       "      <td>3</td>\n",
       "      <td>1703.0</td>\n",
       "      <td>3.0</td>\n",
       "      <td>2.0</td>\n",
       "      <td>113.00</td>\n",
       "      <td>6635.349383</td>\n",
       "    </tr>\n",
       "  </tbody>\n",
       "</table>\n",
       "</div>"
      ],
      "text/plain": [
       "                 area_type     location  size  total_sqft  bath  balcony  \\\n",
       "4857  Super built-up  Area   Nagarbhavi     2      1225.0   2.0      3.0   \n",
       "1277            Plot  Area  Brookefield     5      1950.0   6.0      3.0   \n",
       "9169  Super built-up  Area        other     3      1260.0   2.0      2.0   \n",
       "4791  Super built-up  Area  Mysore Road     2      1155.0   2.0      1.0   \n",
       "2709  Super built-up  Area  Hegde Nagar     3      1703.0   3.0      2.0   \n",
       "\n",
       "       price  price_per_sqft  \n",
       "4857   58.00     4734.693878  \n",
       "1277  175.00     8974.358974  \n",
       "9169   85.05     6750.000000  \n",
       "4791   51.00     4415.584416  \n",
       "2709  113.00     6635.349383  "
      ]
     },
     "execution_count": 47,
     "metadata": {},
     "output_type": "execute_result"
    }
   ],
   "source": [
    "df2=df2[df2['bath']<=df2['size']+2]\n",
    "df2.sample(5)"
   ]
  },
  {
   "cell_type": "code",
   "execution_count": 48,
   "id": "53a4fa67",
   "metadata": {},
   "outputs": [
    {
     "data": {
      "text/plain": [
       "(6800, 8)"
      ]
     },
     "execution_count": 48,
     "metadata": {},
     "output_type": "execute_result"
    }
   ],
   "source": [
    "df2.shape"
   ]
  },
  {
   "cell_type": "code",
   "execution_count": 49,
   "id": "96a6e650",
   "metadata": {},
   "outputs": [
    {
     "data": {
      "text/html": [
       "<div>\n",
       "<style scoped>\n",
       "    .dataframe tbody tr th:only-of-type {\n",
       "        vertical-align: middle;\n",
       "    }\n",
       "\n",
       "    .dataframe tbody tr th {\n",
       "        vertical-align: top;\n",
       "    }\n",
       "\n",
       "    .dataframe thead th {\n",
       "        text-align: right;\n",
       "    }\n",
       "</style>\n",
       "<table border=\"1\" class=\"dataframe\">\n",
       "  <thead>\n",
       "    <tr style=\"text-align: right;\">\n",
       "      <th></th>\n",
       "      <th>location</th>\n",
       "      <th>size</th>\n",
       "      <th>total_sqft</th>\n",
       "      <th>bath</th>\n",
       "      <th>balcony</th>\n",
       "      <th>price</th>\n",
       "      <th>price_per_sqft</th>\n",
       "    </tr>\n",
       "  </thead>\n",
       "  <tbody>\n",
       "    <tr>\n",
       "      <th>1</th>\n",
       "      <td>Devarachikkanahalli</td>\n",
       "      <td>2</td>\n",
       "      <td>1250.0</td>\n",
       "      <td>2.0</td>\n",
       "      <td>2.0</td>\n",
       "      <td>40.0</td>\n",
       "      <td>3200.000000</td>\n",
       "    </tr>\n",
       "    <tr>\n",
       "      <th>2</th>\n",
       "      <td>Devarachikkanahalli</td>\n",
       "      <td>2</td>\n",
       "      <td>1200.0</td>\n",
       "      <td>2.0</td>\n",
       "      <td>2.0</td>\n",
       "      <td>83.0</td>\n",
       "      <td>6916.666667</td>\n",
       "    </tr>\n",
       "    <tr>\n",
       "      <th>3</th>\n",
       "      <td>Devarachikkanahalli</td>\n",
       "      <td>2</td>\n",
       "      <td>1170.0</td>\n",
       "      <td>2.0</td>\n",
       "      <td>2.0</td>\n",
       "      <td>40.0</td>\n",
       "      <td>3418.803419</td>\n",
       "    </tr>\n",
       "    <tr>\n",
       "      <th>4</th>\n",
       "      <td>Devarachikkanahalli</td>\n",
       "      <td>3</td>\n",
       "      <td>1425.0</td>\n",
       "      <td>2.0</td>\n",
       "      <td>2.0</td>\n",
       "      <td>65.0</td>\n",
       "      <td>4561.403509</td>\n",
       "    </tr>\n",
       "    <tr>\n",
       "      <th>5</th>\n",
       "      <td>Devarachikkanahalli</td>\n",
       "      <td>2</td>\n",
       "      <td>947.0</td>\n",
       "      <td>2.0</td>\n",
       "      <td>2.0</td>\n",
       "      <td>43.0</td>\n",
       "      <td>4540.654699</td>\n",
       "    </tr>\n",
       "  </tbody>\n",
       "</table>\n",
       "</div>"
      ],
      "text/plain": [
       "               location  size  total_sqft  bath  balcony  price  \\\n",
       "1   Devarachikkanahalli     2      1250.0   2.0      2.0   40.0   \n",
       "2   Devarachikkanahalli     2      1200.0   2.0      2.0   83.0   \n",
       "3   Devarachikkanahalli     2      1170.0   2.0      2.0   40.0   \n",
       "4   Devarachikkanahalli     3      1425.0   2.0      2.0   65.0   \n",
       "5   Devarachikkanahalli     2       947.0   2.0      2.0   43.0   \n",
       "\n",
       "   price_per_sqft  \n",
       "1     3200.000000  \n",
       "2     6916.666667  \n",
       "3     3418.803419  \n",
       "4     4561.403509  \n",
       "5     4540.654699  "
      ]
     },
     "execution_count": 49,
     "metadata": {},
     "output_type": "execute_result"
    }
   ],
   "source": [
    "df2=df2.drop('area_type',axis=1)\n",
    "df2.head()"
   ]
  },
  {
   "cell_type": "code",
   "execution_count": 50,
   "id": "e07bfcd4",
   "metadata": {},
   "outputs": [],
   "source": [
    "def strip_function(string):\n",
    "    string=string.strip()\n",
    "    return string"
   ]
  },
  {
   "cell_type": "code",
   "execution_count": 51,
   "id": "3c3bd002",
   "metadata": {},
   "outputs": [],
   "source": [
    "df2['location']=df2['location'].apply(strip_function)"
   ]
  },
  {
   "cell_type": "code",
   "execution_count": 52,
   "id": "518bbfbb",
   "metadata": {},
   "outputs": [
    {
     "data": {
      "text/html": [
       "<div>\n",
       "<style scoped>\n",
       "    .dataframe tbody tr th:only-of-type {\n",
       "        vertical-align: middle;\n",
       "    }\n",
       "\n",
       "    .dataframe tbody tr th {\n",
       "        vertical-align: top;\n",
       "    }\n",
       "\n",
       "    .dataframe thead th {\n",
       "        text-align: right;\n",
       "    }\n",
       "</style>\n",
       "<table border=\"1\" class=\"dataframe\">\n",
       "  <thead>\n",
       "    <tr style=\"text-align: right;\">\n",
       "      <th></th>\n",
       "      <th>location</th>\n",
       "      <th>size</th>\n",
       "      <th>total_sqft</th>\n",
       "      <th>bath</th>\n",
       "      <th>balcony</th>\n",
       "      <th>price</th>\n",
       "      <th>price_per_sqft</th>\n",
       "    </tr>\n",
       "  </thead>\n",
       "  <tbody>\n",
       "    <tr>\n",
       "      <th>1</th>\n",
       "      <td>Devarachikkanahalli</td>\n",
       "      <td>2</td>\n",
       "      <td>1250.0</td>\n",
       "      <td>2.0</td>\n",
       "      <td>2.0</td>\n",
       "      <td>40.0</td>\n",
       "      <td>3200.000000</td>\n",
       "    </tr>\n",
       "    <tr>\n",
       "      <th>2</th>\n",
       "      <td>Devarachikkanahalli</td>\n",
       "      <td>2</td>\n",
       "      <td>1200.0</td>\n",
       "      <td>2.0</td>\n",
       "      <td>2.0</td>\n",
       "      <td>83.0</td>\n",
       "      <td>6916.666667</td>\n",
       "    </tr>\n",
       "    <tr>\n",
       "      <th>3</th>\n",
       "      <td>Devarachikkanahalli</td>\n",
       "      <td>2</td>\n",
       "      <td>1170.0</td>\n",
       "      <td>2.0</td>\n",
       "      <td>2.0</td>\n",
       "      <td>40.0</td>\n",
       "      <td>3418.803419</td>\n",
       "    </tr>\n",
       "    <tr>\n",
       "      <th>4</th>\n",
       "      <td>Devarachikkanahalli</td>\n",
       "      <td>3</td>\n",
       "      <td>1425.0</td>\n",
       "      <td>2.0</td>\n",
       "      <td>2.0</td>\n",
       "      <td>65.0</td>\n",
       "      <td>4561.403509</td>\n",
       "    </tr>\n",
       "    <tr>\n",
       "      <th>5</th>\n",
       "      <td>Devarachikkanahalli</td>\n",
       "      <td>2</td>\n",
       "      <td>947.0</td>\n",
       "      <td>2.0</td>\n",
       "      <td>2.0</td>\n",
       "      <td>43.0</td>\n",
       "      <td>4540.654699</td>\n",
       "    </tr>\n",
       "  </tbody>\n",
       "</table>\n",
       "</div>"
      ],
      "text/plain": [
       "              location  size  total_sqft  bath  balcony  price  price_per_sqft\n",
       "1  Devarachikkanahalli     2      1250.0   2.0      2.0   40.0     3200.000000\n",
       "2  Devarachikkanahalli     2      1200.0   2.0      2.0   83.0     6916.666667\n",
       "3  Devarachikkanahalli     2      1170.0   2.0      2.0   40.0     3418.803419\n",
       "4  Devarachikkanahalli     3      1425.0   2.0      2.0   65.0     4561.403509\n",
       "5  Devarachikkanahalli     2       947.0   2.0      2.0   43.0     4540.654699"
      ]
     },
     "execution_count": 52,
     "metadata": {},
     "output_type": "execute_result"
    }
   ],
   "source": [
    "df2.head()"
   ]
  },
  {
   "cell_type": "code",
   "execution_count": 53,
   "id": "d9a72727",
   "metadata": {},
   "outputs": [
    {
     "data": {
      "text/plain": [
       "location          0\n",
       "size              0\n",
       "total_sqft        0\n",
       "bath              0\n",
       "balcony           0\n",
       "price             0\n",
       "price_per_sqft    0\n",
       "dtype: int64"
      ]
     },
     "execution_count": 53,
     "metadata": {},
     "output_type": "execute_result"
    }
   ],
   "source": [
    "df2.isnull().sum()"
   ]
  },
  {
   "cell_type": "markdown",
   "id": "240d898c",
   "metadata": {},
   "source": [
    "### Using label encoder to replace locations:"
   ]
  },
  {
   "cell_type": "code",
   "execution_count": 54,
   "id": "d57a09b2",
   "metadata": {},
   "outputs": [],
   "source": [
    "le=LabelEncoder()"
   ]
  },
  {
   "cell_type": "code",
   "execution_count": 55,
   "id": "77b5a00c",
   "metadata": {},
   "outputs": [
    {
     "data": {
      "text/html": [
       "<div>\n",
       "<style scoped>\n",
       "    .dataframe tbody tr th:only-of-type {\n",
       "        vertical-align: middle;\n",
       "    }\n",
       "\n",
       "    .dataframe tbody tr th {\n",
       "        vertical-align: top;\n",
       "    }\n",
       "\n",
       "    .dataframe thead th {\n",
       "        text-align: right;\n",
       "    }\n",
       "</style>\n",
       "<table border=\"1\" class=\"dataframe\">\n",
       "  <thead>\n",
       "    <tr style=\"text-align: right;\">\n",
       "      <th></th>\n",
       "      <th>location</th>\n",
       "      <th>size</th>\n",
       "      <th>total_sqft</th>\n",
       "      <th>bath</th>\n",
       "      <th>balcony</th>\n",
       "      <th>price</th>\n",
       "      <th>price_per_sqft</th>\n",
       "      <th>loc</th>\n",
       "    </tr>\n",
       "  </thead>\n",
       "  <tbody>\n",
       "    <tr>\n",
       "      <th>1</th>\n",
       "      <td>Devarachikkanahalli</td>\n",
       "      <td>2</td>\n",
       "      <td>1250.0</td>\n",
       "      <td>2.0</td>\n",
       "      <td>2.0</td>\n",
       "      <td>40.0</td>\n",
       "      <td>3200.000000</td>\n",
       "      <td>69</td>\n",
       "    </tr>\n",
       "    <tr>\n",
       "      <th>2</th>\n",
       "      <td>Devarachikkanahalli</td>\n",
       "      <td>2</td>\n",
       "      <td>1200.0</td>\n",
       "      <td>2.0</td>\n",
       "      <td>2.0</td>\n",
       "      <td>83.0</td>\n",
       "      <td>6916.666667</td>\n",
       "      <td>69</td>\n",
       "    </tr>\n",
       "    <tr>\n",
       "      <th>3</th>\n",
       "      <td>Devarachikkanahalli</td>\n",
       "      <td>2</td>\n",
       "      <td>1170.0</td>\n",
       "      <td>2.0</td>\n",
       "      <td>2.0</td>\n",
       "      <td>40.0</td>\n",
       "      <td>3418.803419</td>\n",
       "      <td>69</td>\n",
       "    </tr>\n",
       "    <tr>\n",
       "      <th>4</th>\n",
       "      <td>Devarachikkanahalli</td>\n",
       "      <td>3</td>\n",
       "      <td>1425.0</td>\n",
       "      <td>2.0</td>\n",
       "      <td>2.0</td>\n",
       "      <td>65.0</td>\n",
       "      <td>4561.403509</td>\n",
       "      <td>69</td>\n",
       "    </tr>\n",
       "    <tr>\n",
       "      <th>5</th>\n",
       "      <td>Devarachikkanahalli</td>\n",
       "      <td>2</td>\n",
       "      <td>947.0</td>\n",
       "      <td>2.0</td>\n",
       "      <td>2.0</td>\n",
       "      <td>43.0</td>\n",
       "      <td>4540.654699</td>\n",
       "      <td>69</td>\n",
       "    </tr>\n",
       "  </tbody>\n",
       "</table>\n",
       "</div>"
      ],
      "text/plain": [
       "              location  size  total_sqft  bath  balcony  price  \\\n",
       "1  Devarachikkanahalli     2      1250.0   2.0      2.0   40.0   \n",
       "2  Devarachikkanahalli     2      1200.0   2.0      2.0   83.0   \n",
       "3  Devarachikkanahalli     2      1170.0   2.0      2.0   40.0   \n",
       "4  Devarachikkanahalli     3      1425.0   2.0      2.0   65.0   \n",
       "5  Devarachikkanahalli     2       947.0   2.0      2.0   43.0   \n",
       "\n",
       "   price_per_sqft  loc  \n",
       "1     3200.000000   69  \n",
       "2     6916.666667   69  \n",
       "3     3418.803419   69  \n",
       "4     4561.403509   69  \n",
       "5     4540.654699   69  "
      ]
     },
     "execution_count": 55,
     "metadata": {},
     "output_type": "execute_result"
    }
   ],
   "source": [
    "df2['loc']=le.fit_transform(df2['location'])\n",
    "df2.head()"
   ]
  },
  {
   "cell_type": "code",
   "execution_count": 56,
   "id": "2df4bfd9",
   "metadata": {},
   "outputs": [
    {
     "data": {
      "text/plain": [
       "238"
      ]
     },
     "execution_count": 56,
     "metadata": {},
     "output_type": "execute_result"
    }
   ],
   "source": [
    "df2['location'].nunique()"
   ]
  },
  {
   "cell_type": "code",
   "execution_count": 57,
   "id": "c32959fa",
   "metadata": {},
   "outputs": [
    {
     "data": {
      "text/plain": [
       "238"
      ]
     },
     "execution_count": 57,
     "metadata": {},
     "output_type": "execute_result"
    }
   ],
   "source": [
    "df2['loc'].nunique()"
   ]
  },
  {
   "cell_type": "code",
   "execution_count": 58,
   "id": "94e03916",
   "metadata": {},
   "outputs": [],
   "source": [
    "le_converter=dict()"
   ]
  },
  {
   "cell_type": "code",
   "execution_count": 59,
   "id": "6ef7e7d2",
   "metadata": {},
   "outputs": [],
   "source": [
    "for location,subdf in df2.groupby('location'):\n",
    "    if location not in le_converter.keys():\n",
    "        dfx=subdf.iloc[0]\n",
    "        dfx=dfx['loc']\n",
    "        le_converter[location]=dfx"
   ]
  },
  {
   "cell_type": "code",
   "execution_count": 60,
   "id": "64838356",
   "metadata": {},
   "outputs": [
    {
     "data": {
      "text/plain": [
       "{'1st Block Jayanagar': 0,\n",
       " '1st Phase JP Nagar': 1,\n",
       " '2nd Phase Judicial Layout': 2,\n",
       " '2nd Stage Nagarbhavi': 3,\n",
       " '5th Phase JP Nagar': 4,\n",
       " '6th Phase JP Nagar': 5,\n",
       " '7th Phase JP Nagar': 6,\n",
       " '8th Phase JP Nagar': 7,\n",
       " '9th Phase JP Nagar': 8,\n",
       " 'AECS Layout': 9,\n",
       " 'Abbigere': 10,\n",
       " 'Akshaya Nagar': 11,\n",
       " 'Ambalipura': 12,\n",
       " 'Ambedkar Nagar': 13,\n",
       " 'Amruthahalli': 14,\n",
       " 'Anandapura': 15,\n",
       " 'Ananth Nagar': 16,\n",
       " 'Anekal': 17,\n",
       " 'Anjanapura': 18,\n",
       " 'Ardendale': 19,\n",
       " 'Arekere': 20,\n",
       " 'Attibele': 21,\n",
       " 'BEML Layout': 22,\n",
       " 'BTM 2nd Stage': 23,\n",
       " 'BTM Layout': 24,\n",
       " 'Babusapalaya': 25,\n",
       " 'Badavala Nagar': 26,\n",
       " 'Balagere': 27,\n",
       " 'Banashankari': 28,\n",
       " 'Banashankari Stage II': 29,\n",
       " 'Banashankari Stage III': 30,\n",
       " 'Banashankari Stage V': 31,\n",
       " 'Banashankari Stage VI': 32,\n",
       " 'Banaswadi': 33,\n",
       " 'Banjara Layout': 34,\n",
       " 'Bannerghatta': 35,\n",
       " 'Bannerghatta Road': 36,\n",
       " 'Basavangudi': 37,\n",
       " 'Basaveshwara Nagar': 38,\n",
       " 'Battarahalli': 39,\n",
       " 'Begur': 40,\n",
       " 'Begur Road': 41,\n",
       " 'Bellandur': 42,\n",
       " 'Benson Town': 43,\n",
       " 'Bharathi Nagar': 44,\n",
       " 'Bhoganhalli': 45,\n",
       " 'Billekahalli': 46,\n",
       " 'Binny Pete': 47,\n",
       " 'Bisuvanahalli': 48,\n",
       " 'Bommanahalli': 49,\n",
       " 'Bommasandra': 50,\n",
       " 'Bommasandra Industrial Area': 51,\n",
       " 'Bommenahalli': 52,\n",
       " 'Brookefield': 53,\n",
       " 'Budigere': 54,\n",
       " 'CV Raman Nagar': 55,\n",
       " 'Chamrajpet': 56,\n",
       " 'Chandapura': 57,\n",
       " 'Channasandra': 58,\n",
       " 'Chikka Tirupathi': 59,\n",
       " 'Chikkabanavar': 60,\n",
       " 'Chikkalasandra': 61,\n",
       " 'Choodasandra': 62,\n",
       " 'Cooke Town': 63,\n",
       " 'Cox Town': 64,\n",
       " 'Cunningham Road': 65,\n",
       " 'Dasanapura': 66,\n",
       " 'Dasarahalli': 67,\n",
       " 'Devanahalli': 68,\n",
       " 'Devarachikkanahalli': 69,\n",
       " 'Dodda Nekkundi': 70,\n",
       " 'Doddaballapur': 71,\n",
       " 'Doddakallasandra': 72,\n",
       " 'Doddathoguru': 73,\n",
       " 'Domlur': 74,\n",
       " 'Dommasandra': 75,\n",
       " 'EPIP Zone': 76,\n",
       " 'Electronic City': 77,\n",
       " 'Electronic City Phase II': 78,\n",
       " 'Electronics City Phase 1': 79,\n",
       " 'Frazer Town': 80,\n",
       " 'GM Palaya': 81,\n",
       " 'Garudachar Palya': 82,\n",
       " 'Giri Nagar': 83,\n",
       " 'Gollarapalya Hosahalli': 84,\n",
       " 'Gottigere': 85,\n",
       " 'Green Glen Layout': 86,\n",
       " 'Gubbalala': 87,\n",
       " 'Gunjur': 88,\n",
       " 'HBR Layout': 89,\n",
       " 'HRBR Layout': 90,\n",
       " 'HSR Layout': 91,\n",
       " 'Haralur Road': 92,\n",
       " 'Harlur': 93,\n",
       " 'Hebbal': 94,\n",
       " 'Hebbal Kempapura': 95,\n",
       " 'Hegde Nagar': 96,\n",
       " 'Hennur': 97,\n",
       " 'Hennur Road': 98,\n",
       " 'Hoodi': 99,\n",
       " 'Horamavu Agara': 100,\n",
       " 'Horamavu Banaswadi': 101,\n",
       " 'Hormavu': 102,\n",
       " 'Hosa Road': 103,\n",
       " 'Hosakerehalli': 104,\n",
       " 'Hoskote': 105,\n",
       " 'Hosur Road': 106,\n",
       " 'Hulimavu': 107,\n",
       " 'ISRO Layout': 108,\n",
       " 'ITPL': 109,\n",
       " 'Iblur Village': 110,\n",
       " 'Indira Nagar': 111,\n",
       " 'JP Nagar': 112,\n",
       " 'Jakkur': 113,\n",
       " 'Jalahalli': 114,\n",
       " 'Jalahalli East': 115,\n",
       " 'Jigani': 116,\n",
       " 'Judicial Layout': 117,\n",
       " 'KR Puram': 118,\n",
       " 'Kadubeesanahalli': 119,\n",
       " 'Kadugodi': 120,\n",
       " 'Kaggadasapura': 121,\n",
       " 'Kaggalipura': 122,\n",
       " 'Kaikondrahalli': 123,\n",
       " 'Kalena Agrahara': 124,\n",
       " 'Kalyan nagar': 125,\n",
       " 'Kambipura': 126,\n",
       " 'Kammanahalli': 127,\n",
       " 'Kammasandra': 128,\n",
       " 'Kanakapura': 129,\n",
       " 'Kanakpura Road': 130,\n",
       " 'Kannamangala': 131,\n",
       " 'Karuna Nagar': 132,\n",
       " 'Kasavanhalli': 133,\n",
       " 'Kasturi Nagar': 134,\n",
       " 'Kathriguppe': 135,\n",
       " 'Kaval Byrasandra': 136,\n",
       " 'Kenchenahalli': 137,\n",
       " 'Kengeri': 138,\n",
       " 'Kengeri Satellite Town': 139,\n",
       " 'Kereguddadahalli': 140,\n",
       " 'Kodichikkanahalli': 141,\n",
       " 'Kodigehaali': 142,\n",
       " 'Kodihalli': 143,\n",
       " 'Kogilu': 144,\n",
       " 'Konanakunte': 145,\n",
       " 'Koramangala': 146,\n",
       " 'Kothannur': 147,\n",
       " 'Kothanur': 148,\n",
       " 'Kudlu': 149,\n",
       " 'Kudlu Gate': 150,\n",
       " 'Kumaraswami Layout': 151,\n",
       " 'Kundalahalli': 152,\n",
       " 'LB Shastri Nagar': 153,\n",
       " 'Laggere': 154,\n",
       " 'Lakshminarayana Pura': 155,\n",
       " 'Lingadheeranahalli': 156,\n",
       " 'Magadi Road': 157,\n",
       " 'Mahadevpura': 158,\n",
       " 'Mahalakshmi Layout': 159,\n",
       " 'Mallasandra': 160,\n",
       " 'Malleshpalya': 161,\n",
       " 'Malleshwaram': 162,\n",
       " 'Marathahalli': 163,\n",
       " 'Margondanahalli': 164,\n",
       " 'Marsur': 165,\n",
       " 'Mico Layout': 166,\n",
       " 'Munnekollal': 167,\n",
       " 'Murugeshpalya': 168,\n",
       " 'Mysore Road': 169,\n",
       " 'NGR Layout': 170,\n",
       " 'NRI Layout': 171,\n",
       " 'Nagarbhavi': 172,\n",
       " 'Nagasandra': 173,\n",
       " 'Nagavara': 174,\n",
       " 'Nagavarapalya': 175,\n",
       " 'Narayanapura': 176,\n",
       " 'Neeladri Nagar': 177,\n",
       " 'OMBR Layout': 178,\n",
       " 'Old Airport Road': 179,\n",
       " 'Old Madras Road': 180,\n",
       " 'Padmanabhanagar': 181,\n",
       " 'Pai Layout': 182,\n",
       " 'Panathur': 183,\n",
       " 'Parappana Agrahara': 184,\n",
       " 'Pattandur Agrahara': 185,\n",
       " 'Poorna Pragna Layout': 186,\n",
       " 'Prithvi Layout': 187,\n",
       " 'R.T. Nagar': 188,\n",
       " 'Rachenahalli': 189,\n",
       " 'Raja Rajeshwari Nagar': 190,\n",
       " 'Rajaji Nagar': 191,\n",
       " 'Rajiv Nagar': 192,\n",
       " 'Ramagondanahalli': 193,\n",
       " 'Ramamurthy Nagar': 194,\n",
       " 'Rayasandra': 195,\n",
       " 'Sahakara Nagar': 196,\n",
       " 'Sanjay nagar': 197,\n",
       " 'Sarakki Nagar': 198,\n",
       " 'Sarjapur': 199,\n",
       " 'Sarjapur  Road': 200,\n",
       " 'Sarjapura - Attibele Road': 201,\n",
       " 'Sector 2 HSR Layout': 202,\n",
       " 'Sector 7 HSR Layout': 203,\n",
       " 'Seegehalli': 204,\n",
       " 'Shampura': 205,\n",
       " 'Shivaji Nagar': 206,\n",
       " 'Singasandra': 207,\n",
       " 'Somasundara Palya': 208,\n",
       " 'Sompura': 209,\n",
       " 'Sonnenahalli': 210,\n",
       " 'Subramanyapura': 211,\n",
       " 'Sultan Palaya': 212,\n",
       " 'TC Palaya': 213,\n",
       " 'Talaghattapura': 214,\n",
       " 'Thanisandra': 215,\n",
       " 'Thigalarapalya': 216,\n",
       " 'Thubarahalli': 217,\n",
       " 'Thyagaraja Nagar': 218,\n",
       " 'Tindlu': 219,\n",
       " 'Tumkur Road': 220,\n",
       " 'Ulsoor': 221,\n",
       " 'Uttarahalli': 222,\n",
       " 'Varthur': 223,\n",
       " 'Varthur Road': 224,\n",
       " 'Vasanthapura': 225,\n",
       " 'Vidyaranyapura': 226,\n",
       " 'Vijayanagar': 227,\n",
       " 'Vishveshwarya Layout': 228,\n",
       " 'Vishwapriya Layout': 229,\n",
       " 'Vittasandra': 230,\n",
       " 'Whitefield': 231,\n",
       " 'Yelachenahalli': 232,\n",
       " 'Yelahanka': 233,\n",
       " 'Yelahanka New Town': 234,\n",
       " 'Yelenahalli': 235,\n",
       " 'Yeshwanthpur': 236,\n",
       " 'other': 237}"
      ]
     },
     "execution_count": 60,
     "metadata": {},
     "output_type": "execute_result"
    }
   ],
   "source": [
    "le_converter"
   ]
  },
  {
   "cell_type": "markdown",
   "id": "2287dde8",
   "metadata": {},
   "source": [
    "### storing le_converter to .json file:"
   ]
  },
  {
   "cell_type": "code",
   "execution_count": 61,
   "id": "7d098225",
   "metadata": {},
   "outputs": [],
   "source": [
    "with open('variables/location.pkl','wb') as pickle_file:\n",
    "    pickle.dump(le_converter,pickle_file)"
   ]
  },
  {
   "cell_type": "markdown",
   "id": "0b286a11",
   "metadata": {},
   "source": [
    "## Diving the data into training data and testing data:"
   ]
  },
  {
   "cell_type": "markdown",
   "id": "be7097bf",
   "metadata": {},
   "source": [
    "### removing unnecessary columns:"
   ]
  },
  {
   "cell_type": "code",
   "execution_count": 62,
   "id": "ca39e8d7",
   "metadata": {},
   "outputs": [
    {
     "data": {
      "text/html": [
       "<div>\n",
       "<style scoped>\n",
       "    .dataframe tbody tr th:only-of-type {\n",
       "        vertical-align: middle;\n",
       "    }\n",
       "\n",
       "    .dataframe tbody tr th {\n",
       "        vertical-align: top;\n",
       "    }\n",
       "\n",
       "    .dataframe thead th {\n",
       "        text-align: right;\n",
       "    }\n",
       "</style>\n",
       "<table border=\"1\" class=\"dataframe\">\n",
       "  <thead>\n",
       "    <tr style=\"text-align: right;\">\n",
       "      <th></th>\n",
       "      <th>size</th>\n",
       "      <th>total_sqft</th>\n",
       "      <th>bath</th>\n",
       "      <th>balcony</th>\n",
       "      <th>price</th>\n",
       "      <th>loc</th>\n",
       "    </tr>\n",
       "  </thead>\n",
       "  <tbody>\n",
       "    <tr>\n",
       "      <th>1</th>\n",
       "      <td>2</td>\n",
       "      <td>1250.0</td>\n",
       "      <td>2.0</td>\n",
       "      <td>2.0</td>\n",
       "      <td>40.0</td>\n",
       "      <td>69</td>\n",
       "    </tr>\n",
       "    <tr>\n",
       "      <th>2</th>\n",
       "      <td>2</td>\n",
       "      <td>1200.0</td>\n",
       "      <td>2.0</td>\n",
       "      <td>2.0</td>\n",
       "      <td>83.0</td>\n",
       "      <td>69</td>\n",
       "    </tr>\n",
       "    <tr>\n",
       "      <th>3</th>\n",
       "      <td>2</td>\n",
       "      <td>1170.0</td>\n",
       "      <td>2.0</td>\n",
       "      <td>2.0</td>\n",
       "      <td>40.0</td>\n",
       "      <td>69</td>\n",
       "    </tr>\n",
       "    <tr>\n",
       "      <th>4</th>\n",
       "      <td>3</td>\n",
       "      <td>1425.0</td>\n",
       "      <td>2.0</td>\n",
       "      <td>2.0</td>\n",
       "      <td>65.0</td>\n",
       "      <td>69</td>\n",
       "    </tr>\n",
       "    <tr>\n",
       "      <th>5</th>\n",
       "      <td>2</td>\n",
       "      <td>947.0</td>\n",
       "      <td>2.0</td>\n",
       "      <td>2.0</td>\n",
       "      <td>43.0</td>\n",
       "      <td>69</td>\n",
       "    </tr>\n",
       "  </tbody>\n",
       "</table>\n",
       "</div>"
      ],
      "text/plain": [
       "   size  total_sqft  bath  balcony  price  loc\n",
       "1     2      1250.0   2.0      2.0   40.0   69\n",
       "2     2      1200.0   2.0      2.0   83.0   69\n",
       "3     2      1170.0   2.0      2.0   40.0   69\n",
       "4     3      1425.0   2.0      2.0   65.0   69\n",
       "5     2       947.0   2.0      2.0   43.0   69"
      ]
     },
     "execution_count": 62,
     "metadata": {},
     "output_type": "execute_result"
    }
   ],
   "source": [
    "df3=df2.drop(['location','price_per_sqft'],axis=1)\n",
    "df3.head()"
   ]
  },
  {
   "cell_type": "markdown",
   "id": "78038502",
   "metadata": {},
   "source": [
    "## Spliting training and testing data:"
   ]
  },
  {
   "cell_type": "code",
   "execution_count": 63,
   "id": "a06906f4",
   "metadata": {},
   "outputs": [
    {
     "data": {
      "text/html": [
       "<div>\n",
       "<style scoped>\n",
       "    .dataframe tbody tr th:only-of-type {\n",
       "        vertical-align: middle;\n",
       "    }\n",
       "\n",
       "    .dataframe tbody tr th {\n",
       "        vertical-align: top;\n",
       "    }\n",
       "\n",
       "    .dataframe thead th {\n",
       "        text-align: right;\n",
       "    }\n",
       "</style>\n",
       "<table border=\"1\" class=\"dataframe\">\n",
       "  <thead>\n",
       "    <tr style=\"text-align: right;\">\n",
       "      <th></th>\n",
       "      <th>size</th>\n",
       "      <th>total_sqft</th>\n",
       "      <th>bath</th>\n",
       "      <th>balcony</th>\n",
       "      <th>loc</th>\n",
       "    </tr>\n",
       "  </thead>\n",
       "  <tbody>\n",
       "    <tr>\n",
       "      <th>1</th>\n",
       "      <td>2</td>\n",
       "      <td>1250.0</td>\n",
       "      <td>2.0</td>\n",
       "      <td>2.0</td>\n",
       "      <td>69</td>\n",
       "    </tr>\n",
       "    <tr>\n",
       "      <th>2</th>\n",
       "      <td>2</td>\n",
       "      <td>1200.0</td>\n",
       "      <td>2.0</td>\n",
       "      <td>2.0</td>\n",
       "      <td>69</td>\n",
       "    </tr>\n",
       "    <tr>\n",
       "      <th>3</th>\n",
       "      <td>2</td>\n",
       "      <td>1170.0</td>\n",
       "      <td>2.0</td>\n",
       "      <td>2.0</td>\n",
       "      <td>69</td>\n",
       "    </tr>\n",
       "    <tr>\n",
       "      <th>4</th>\n",
       "      <td>3</td>\n",
       "      <td>1425.0</td>\n",
       "      <td>2.0</td>\n",
       "      <td>2.0</td>\n",
       "      <td>69</td>\n",
       "    </tr>\n",
       "    <tr>\n",
       "      <th>5</th>\n",
       "      <td>2</td>\n",
       "      <td>947.0</td>\n",
       "      <td>2.0</td>\n",
       "      <td>2.0</td>\n",
       "      <td>69</td>\n",
       "    </tr>\n",
       "    <tr>\n",
       "      <th>...</th>\n",
       "      <td>...</td>\n",
       "      <td>...</td>\n",
       "      <td>...</td>\n",
       "      <td>...</td>\n",
       "      <td>...</td>\n",
       "    </tr>\n",
       "    <tr>\n",
       "      <th>9559</th>\n",
       "      <td>2</td>\n",
       "      <td>1155.0</td>\n",
       "      <td>2.0</td>\n",
       "      <td>1.0</td>\n",
       "      <td>237</td>\n",
       "    </tr>\n",
       "    <tr>\n",
       "      <th>9561</th>\n",
       "      <td>2</td>\n",
       "      <td>1200.0</td>\n",
       "      <td>2.0</td>\n",
       "      <td>3.0</td>\n",
       "      <td>237</td>\n",
       "    </tr>\n",
       "    <tr>\n",
       "      <th>9562</th>\n",
       "      <td>1</td>\n",
       "      <td>1800.0</td>\n",
       "      <td>1.0</td>\n",
       "      <td>1.0</td>\n",
       "      <td>237</td>\n",
       "    </tr>\n",
       "    <tr>\n",
       "      <th>9565</th>\n",
       "      <td>2</td>\n",
       "      <td>1353.0</td>\n",
       "      <td>2.0</td>\n",
       "      <td>2.0</td>\n",
       "      <td>237</td>\n",
       "    </tr>\n",
       "    <tr>\n",
       "      <th>9566</th>\n",
       "      <td>1</td>\n",
       "      <td>812.0</td>\n",
       "      <td>1.0</td>\n",
       "      <td>0.0</td>\n",
       "      <td>237</td>\n",
       "    </tr>\n",
       "  </tbody>\n",
       "</table>\n",
       "<p>6800 rows × 5 columns</p>\n",
       "</div>"
      ],
      "text/plain": [
       "      size  total_sqft  bath  balcony  loc\n",
       "1        2      1250.0   2.0      2.0   69\n",
       "2        2      1200.0   2.0      2.0   69\n",
       "3        2      1170.0   2.0      2.0   69\n",
       "4        3      1425.0   2.0      2.0   69\n",
       "5        2       947.0   2.0      2.0   69\n",
       "...    ...         ...   ...      ...  ...\n",
       "9559     2      1155.0   2.0      1.0  237\n",
       "9561     2      1200.0   2.0      3.0  237\n",
       "9562     1      1800.0   1.0      1.0  237\n",
       "9565     2      1353.0   2.0      2.0  237\n",
       "9566     1       812.0   1.0      0.0  237\n",
       "\n",
       "[6800 rows x 5 columns]"
      ]
     },
     "execution_count": 63,
     "metadata": {},
     "output_type": "execute_result"
    }
   ],
   "source": [
    "x=df3.drop(['price'],axis=1)\n",
    "x"
   ]
  },
  {
   "cell_type": "code",
   "execution_count": 64,
   "id": "e96d3f74",
   "metadata": {},
   "outputs": [
    {
     "data": {
      "text/plain": [
       "1        40.0\n",
       "2        83.0\n",
       "3        40.0\n",
       "4        65.0\n",
       "5        43.0\n",
       "        ...  \n",
       "9559     64.0\n",
       "9561     70.0\n",
       "9562    200.0\n",
       "9565    110.0\n",
       "9566     26.0\n",
       "Name: price, Length: 6800, dtype: float64"
      ]
     },
     "execution_count": 64,
     "metadata": {},
     "output_type": "execute_result"
    }
   ],
   "source": [
    "y=df3['price']\n",
    "y"
   ]
  },
  {
   "cell_type": "code",
   "execution_count": 65,
   "id": "85354d09",
   "metadata": {},
   "outputs": [],
   "source": [
    "x_train,x_test,y_train,y_test=train_test_split(x,y,test_size=0.2)"
   ]
  },
  {
   "cell_type": "code",
   "execution_count": 66,
   "id": "f813174a",
   "metadata": {},
   "outputs": [
    {
     "data": {
      "text/html": [
       "<div>\n",
       "<style scoped>\n",
       "    .dataframe tbody tr th:only-of-type {\n",
       "        vertical-align: middle;\n",
       "    }\n",
       "\n",
       "    .dataframe tbody tr th {\n",
       "        vertical-align: top;\n",
       "    }\n",
       "\n",
       "    .dataframe thead th {\n",
       "        text-align: right;\n",
       "    }\n",
       "</style>\n",
       "<table border=\"1\" class=\"dataframe\">\n",
       "  <thead>\n",
       "    <tr style=\"text-align: right;\">\n",
       "      <th></th>\n",
       "      <th>size</th>\n",
       "      <th>total_sqft</th>\n",
       "      <th>bath</th>\n",
       "      <th>balcony</th>\n",
       "      <th>loc</th>\n",
       "    </tr>\n",
       "  </thead>\n",
       "  <tbody>\n",
       "    <tr>\n",
       "      <th>8221</th>\n",
       "      <td>2</td>\n",
       "      <td>1340.0</td>\n",
       "      <td>2.0</td>\n",
       "      <td>3.0</td>\n",
       "      <td>237</td>\n",
       "    </tr>\n",
       "    <tr>\n",
       "      <th>4513</th>\n",
       "      <td>2</td>\n",
       "      <td>1236.0</td>\n",
       "      <td>2.0</td>\n",
       "      <td>1.0</td>\n",
       "      <td>158</td>\n",
       "    </tr>\n",
       "    <tr>\n",
       "      <th>2730</th>\n",
       "      <td>3</td>\n",
       "      <td>1168.0</td>\n",
       "      <td>2.0</td>\n",
       "      <td>1.0</td>\n",
       "      <td>96</td>\n",
       "    </tr>\n",
       "    <tr>\n",
       "      <th>72</th>\n",
       "      <td>2</td>\n",
       "      <td>812.0</td>\n",
       "      <td>2.0</td>\n",
       "      <td>1.0</td>\n",
       "      <td>4</td>\n",
       "    </tr>\n",
       "    <tr>\n",
       "      <th>5118</th>\n",
       "      <td>2</td>\n",
       "      <td>1050.0</td>\n",
       "      <td>2.0</td>\n",
       "      <td>2.0</td>\n",
       "      <td>189</td>\n",
       "    </tr>\n",
       "  </tbody>\n",
       "</table>\n",
       "</div>"
      ],
      "text/plain": [
       "      size  total_sqft  bath  balcony  loc\n",
       "8221     2      1340.0   2.0      3.0  237\n",
       "4513     2      1236.0   2.0      1.0  158\n",
       "2730     3      1168.0   2.0      1.0   96\n",
       "72       2       812.0   2.0      1.0    4\n",
       "5118     2      1050.0   2.0      2.0  189"
      ]
     },
     "execution_count": 66,
     "metadata": {},
     "output_type": "execute_result"
    }
   ],
   "source": [
    "x_train.sample(5)"
   ]
  },
  {
   "cell_type": "code",
   "execution_count": 67,
   "id": "a4fae85f",
   "metadata": {},
   "outputs": [
    {
     "data": {
      "text/html": [
       "<div>\n",
       "<style scoped>\n",
       "    .dataframe tbody tr th:only-of-type {\n",
       "        vertical-align: middle;\n",
       "    }\n",
       "\n",
       "    .dataframe tbody tr th {\n",
       "        vertical-align: top;\n",
       "    }\n",
       "\n",
       "    .dataframe thead th {\n",
       "        text-align: right;\n",
       "    }\n",
       "</style>\n",
       "<table border=\"1\" class=\"dataframe\">\n",
       "  <thead>\n",
       "    <tr style=\"text-align: right;\">\n",
       "      <th></th>\n",
       "      <th>size</th>\n",
       "      <th>total_sqft</th>\n",
       "      <th>bath</th>\n",
       "      <th>balcony</th>\n",
       "      <th>loc</th>\n",
       "    </tr>\n",
       "  </thead>\n",
       "  <tbody>\n",
       "    <tr>\n",
       "      <th>1535</th>\n",
       "      <td>2</td>\n",
       "      <td>1115.0</td>\n",
       "      <td>2.0</td>\n",
       "      <td>2.0</td>\n",
       "      <td>62</td>\n",
       "    </tr>\n",
       "    <tr>\n",
       "      <th>6091</th>\n",
       "      <td>2</td>\n",
       "      <td>900.0</td>\n",
       "      <td>2.0</td>\n",
       "      <td>0.0</td>\n",
       "      <td>213</td>\n",
       "    </tr>\n",
       "    <tr>\n",
       "      <th>1556</th>\n",
       "      <td>3</td>\n",
       "      <td>3815.0</td>\n",
       "      <td>3.0</td>\n",
       "      <td>1.0</td>\n",
       "      <td>65</td>\n",
       "    </tr>\n",
       "    <tr>\n",
       "      <th>7119</th>\n",
       "      <td>3</td>\n",
       "      <td>1457.0</td>\n",
       "      <td>2.0</td>\n",
       "      <td>2.0</td>\n",
       "      <td>231</td>\n",
       "    </tr>\n",
       "    <tr>\n",
       "      <th>4229</th>\n",
       "      <td>2</td>\n",
       "      <td>1100.0</td>\n",
       "      <td>2.0</td>\n",
       "      <td>2.0</td>\n",
       "      <td>146</td>\n",
       "    </tr>\n",
       "  </tbody>\n",
       "</table>\n",
       "</div>"
      ],
      "text/plain": [
       "      size  total_sqft  bath  balcony  loc\n",
       "1535     2      1115.0   2.0      2.0   62\n",
       "6091     2       900.0   2.0      0.0  213\n",
       "1556     3      3815.0   3.0      1.0   65\n",
       "7119     3      1457.0   2.0      2.0  231\n",
       "4229     2      1100.0   2.0      2.0  146"
      ]
     },
     "execution_count": 67,
     "metadata": {},
     "output_type": "execute_result"
    }
   ],
   "source": [
    "x_test.sample(5)"
   ]
  },
  {
   "cell_type": "code",
   "execution_count": 68,
   "id": "1d91c614",
   "metadata": {},
   "outputs": [
    {
     "data": {
      "text/plain": [
       "2471    100.00\n",
       "3631     39.00\n",
       "951      37.80\n",
       "3120     69.00\n",
       "6638    230.00\n",
       "         ...  \n",
       "2557    180.00\n",
       "4150     56.00\n",
       "6651     67.30\n",
       "6469     35.88\n",
       "9521    285.00\n",
       "Name: price, Length: 5440, dtype: float64"
      ]
     },
     "execution_count": 68,
     "metadata": {},
     "output_type": "execute_result"
    }
   ],
   "source": [
    "y_train"
   ]
  },
  {
   "cell_type": "code",
   "execution_count": 69,
   "id": "69bc5414",
   "metadata": {},
   "outputs": [
    {
     "data": {
      "text/plain": [
       "5128     52.1\n",
       "4380     78.0\n",
       "6634     58.0\n",
       "4229     85.0\n",
       "6260    115.0\n",
       "Name: price, dtype: float64"
      ]
     },
     "execution_count": 69,
     "metadata": {},
     "output_type": "execute_result"
    }
   ],
   "source": [
    "y_test[:5]"
   ]
  },
  {
   "cell_type": "markdown",
   "id": "feb1d3b3",
   "metadata": {},
   "source": [
    "## Using multivariate linear regression to build a prediction model:"
   ]
  },
  {
   "cell_type": "code",
   "execution_count": 70,
   "id": "bd5be7df",
   "metadata": {},
   "outputs": [],
   "source": [
    "model=LinearRegression()"
   ]
  },
  {
   "cell_type": "code",
   "execution_count": 71,
   "id": "b6a547ad",
   "metadata": {},
   "outputs": [
    {
     "data": {
      "text/plain": [
       "LinearRegression()"
      ]
     },
     "execution_count": 71,
     "metadata": {},
     "output_type": "execute_result"
    }
   ],
   "source": [
    "model.fit(x_train,y_train)"
   ]
  },
  {
   "cell_type": "code",
   "execution_count": 72,
   "id": "2ecc4468",
   "metadata": {},
   "outputs": [
    {
     "data": {
      "text/plain": [
       "0.7109222886285214"
      ]
     },
     "execution_count": 72,
     "metadata": {},
     "output_type": "execute_result"
    }
   ],
   "source": [
    "model.score(x_test,y_test)"
   ]
  },
  {
   "cell_type": "markdown",
   "id": "ea6b6eb1",
   "metadata": {},
   "source": [
    "## Storing the model in a pickle format:"
   ]
  },
  {
   "cell_type": "code",
   "execution_count": 73,
   "id": "422c0615",
   "metadata": {},
   "outputs": [],
   "source": [
    "with open('variables/model.pkl','wb') as pickle_file:\n",
    "    pickle.dump(model,pickle_file)"
   ]
  },
  {
   "cell_type": "code",
   "execution_count": 74,
   "id": "13850b8f",
   "metadata": {},
   "outputs": [],
   "source": [
    "with open('variables/training_data_input.pkl','wb') as pickle_file:\n",
    "    pickle.dump(x_train,pickle_file)"
   ]
  },
  {
   "cell_type": "code",
   "execution_count": 75,
   "id": "268b039e",
   "metadata": {},
   "outputs": [],
   "source": [
    "with open('variables/training_data_output.pkl','wb') as pickle_file:\n",
    "    pickle.dump(y_train,pickle_file)"
   ]
  },
  {
   "cell_type": "code",
   "execution_count": 76,
   "id": "a5ac0744",
   "metadata": {},
   "outputs": [],
   "source": [
    "with open('variables/testing_data_input.pkl','wb') as pickle_file:\n",
    "    pickle.dump(x_test,pickle_file)"
   ]
  },
  {
   "cell_type": "code",
   "execution_count": 77,
   "id": "1e58245a",
   "metadata": {},
   "outputs": [],
   "source": [
    "with open('variables/testing_data_output.pkl','wb') as pickle_file:\n",
    "    pickle.dump(x_test,pickle_file)"
   ]
  }
 ],
 "metadata": {
  "kernelspec": {
   "display_name": "Python 3 (ipykernel)",
   "language": "python",
   "name": "python3"
  },
  "language_info": {
   "codemirror_mode": {
    "name": "ipython",
    "version": 3
   },
   "file_extension": ".py",
   "mimetype": "text/x-python",
   "name": "python",
   "nbconvert_exporter": "python",
   "pygments_lexer": "ipython3",
   "version": "3.9.12"
  }
 },
 "nbformat": 4,
 "nbformat_minor": 5
}
